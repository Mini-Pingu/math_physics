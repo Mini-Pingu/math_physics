{
 "cells": [
  {
   "cell_type": "markdown",
   "id": "10b52380-c60c-49aa-8561-83298b9bf859",
   "metadata": {
    "editable": true,
    "slideshow": {
     "slide_type": ""
    },
    "tags": []
   },
   "source": [
    "# 1. Sample Notebook"
   ]
  },
  {
   "cell_type": "markdown",
   "id": "ae452e67-3378-463d-84b6-c94728751271",
   "metadata": {
    "editable": true,
    "slideshow": {
     "slide_type": ""
    },
    "tags": []
   },
   "source": [
    "## 1.1 Setup\n",
    "\n",
    "### 1.1.1. Imports\n",
    "Put the import statements at the top so it is easy for your readers to know what they must install to use your notebook."
   ]
  },
  {
   "cell_type": "code",
   "execution_count": 1,
   "id": "f3f23b6f-d679-41b8-aa26-45ab812e6ba2",
   "metadata": {
    "editable": true,
    "slideshow": {
     "slide_type": ""
    },
    "tags": []
   },
   "outputs": [],
   "source": [
    "import pandas as pd\n",
    "import plotnine as gg"
   ]
  },
  {
   "cell_type": "code",
   "execution_count": 2,
   "id": "b982b1e0-a71d-4960-8217-73bc417ab799",
   "metadata": {
    "editable": true,
    "slideshow": {
     "slide_type": ""
    },
    "tags": []
   },
   "outputs": [],
   "source": [
    "from tqdm.notebook import tqdm"
   ]
  },
  {
   "cell_type": "markdown",
   "id": "81871437-4501-4126-86df-6380b6bafb08",
   "metadata": {},
   "source": [
    "### 1.1.2. Configurations\n",
    "\n",
    "For instance, how to show cell output. "
   ]
  },
  {
   "cell_type": "code",
   "execution_count": 3,
   "id": "11b8bda7-9137-4bc6-ae10-f906a0e758e1",
   "metadata": {},
   "outputs": [
    {
     "name": "stdout",
     "output_type": "stream",
     "text": [
      "45\n",
      "CPU times: user 49 µs, sys: 1 µs, total: 50 µs\n",
      "Wall time: 49.8 µs\n"
     ]
    },
    {
     "data": {
      "text/plain": [
       "4950"
      ]
     },
     "execution_count": 3,
     "metadata": {},
     "output_type": "execute_result"
    }
   ],
   "source": [
    "%%time\n",
    "# Example with default 'last'\n",
    "sum(range(10)) #no\n",
    "\n",
    "print(sum(range(10))) #yes\n",
    "\n",
    "sum(range(100)) #yes"
   ]
  },
  {
   "cell_type": "code",
   "execution_count": 4,
   "id": "4f6a25f1-8549-45dd-8499-3b1a3762edee",
   "metadata": {},
   "outputs": [],
   "source": [
    "from IPython.core.interactiveshell import InteractiveShell\n",
    "InteractiveShell.ast_node_interactivity = \"all\"  \n",
    "\n",
    "#Options: 'all', 'last', 'last_expr', 'none', 'last_expr_or_assign'"
   ]
  },
  {
   "cell_type": "code",
   "execution_count": 5,
   "id": "6bcbd14f-3e1c-4202-93de-dc29e1884b36",
   "metadata": {},
   "outputs": [
    {
     "data": {
      "text/plain": [
       "45"
      ]
     },
     "execution_count": 5,
     "metadata": {},
     "output_type": "execute_result"
    },
    {
     "name": "stdout",
     "output_type": "stream",
     "text": [
      "45\n"
     ]
    },
    {
     "data": {
      "text/plain": [
       "4950"
      ]
     },
     "execution_count": 5,
     "metadata": {},
     "output_type": "execute_result"
    }
   ],
   "source": [
    "# Example v2 with 'all'\n",
    "sum(range(10))        #yes\n",
    "print(sum(range(10))) #yes\n",
    "sum(range(100))       #yes"
   ]
  },
  {
   "cell_type": "code",
   "execution_count": null,
   "id": "5bbc3457-1952-4242-a4d4-af21c7ac6078",
   "metadata": {},
   "outputs": [],
   "source": []
  },
  {
   "cell_type": "markdown",
   "id": "39d05879-affc-4e63-ab52-ea0386b5ae11",
   "metadata": {},
   "source": [
    "## 1.2. Working with data"
   ]
  },
  {
   "cell_type": "markdown",
   "id": "6011dd51-5958-424a-9e25-19e08f8c829b",
   "metadata": {},
   "source": [
    "### 1.2.1. Loading Data"
   ]
  },
  {
   "cell_type": "code",
   "execution_count": 6,
   "id": "0082e023-72f9-4bb8-b9ff-3b3920de2657",
   "metadata": {},
   "outputs": [],
   "source": [
    "df = pd.read_csv(\"../data/registration_times.csv\")"
   ]
  },
  {
   "cell_type": "code",
   "execution_count": 7,
   "id": "c6f38446-f2c5-4a1f-8e48-f28f54edce79",
   "metadata": {},
   "outputs": [
    {
     "data": {
      "text/html": [
       "<div>\n",
       "<style scoped>\n",
       "    .dataframe tbody tr th:only-of-type {\n",
       "        vertical-align: middle;\n",
       "    }\n",
       "\n",
       "    .dataframe tbody tr th {\n",
       "        vertical-align: top;\n",
       "    }\n",
       "\n",
       "    .dataframe thead th {\n",
       "        text-align: right;\n",
       "    }\n",
       "</style>\n",
       "<table border=\"1\" class=\"dataframe\">\n",
       "  <thead>\n",
       "    <tr style=\"text-align: right;\">\n",
       "      <th></th>\n",
       "      <th>Registration Time</th>\n",
       "      <th>org</th>\n",
       "    </tr>\n",
       "  </thead>\n",
       "  <tbody>\n",
       "    <tr>\n",
       "      <th>0</th>\n",
       "      <td>2022-10-19 13:43:15</td>\n",
       "      <td>cu</td>\n",
       "    </tr>\n",
       "    <tr>\n",
       "      <th>1</th>\n",
       "      <td>2022-10-19 18:53:05</td>\n",
       "      <td>cu</td>\n",
       "    </tr>\n",
       "    <tr>\n",
       "      <th>2</th>\n",
       "      <td>2022-10-27 09:56:39</td>\n",
       "      <td>cu</td>\n",
       "    </tr>\n",
       "    <tr>\n",
       "      <th>3</th>\n",
       "      <td>2022-10-25 13:45:37</td>\n",
       "      <td>cu</td>\n",
       "    </tr>\n",
       "    <tr>\n",
       "      <th>4</th>\n",
       "      <td>2022-10-20 09:37:27</td>\n",
       "      <td>cu</td>\n",
       "    </tr>\n",
       "  </tbody>\n",
       "</table>\n",
       "</div>"
      ],
      "text/plain": [
       "     Registration Time org\n",
       "0  2022-10-19 13:43:15  cu\n",
       "1  2022-10-19 18:53:05  cu\n",
       "2  2022-10-27 09:56:39  cu\n",
       "3  2022-10-25 13:45:37  cu\n",
       "4  2022-10-20 09:37:27  cu"
      ]
     },
     "execution_count": 7,
     "metadata": {},
     "output_type": "execute_result"
    },
    {
     "data": {
      "text/plain": [
       "Registration Time    object\n",
       "org                  object\n",
       "dtype: object"
      ]
     },
     "execution_count": 7,
     "metadata": {},
     "output_type": "execute_result"
    }
   ],
   "source": [
    "df.head()\n",
    "df.dtypes  #not the types we want!"
   ]
  },
  {
   "cell_type": "code",
   "execution_count": null,
   "id": "8be992a8-e33f-4bd0-89a1-b3d58910e042",
   "metadata": {},
   "outputs": [],
   "source": []
  },
  {
   "cell_type": "markdown",
   "id": "a73ceabb-76db-4e56-b1eb-49f538331265",
   "metadata": {
    "tags": []
   },
   "source": [
    "### 1.2.2. Aside: Editor Features"
   ]
  },
  {
   "cell_type": "code",
   "execution_count": 8,
   "id": "7929a49c-e616-4a63-be32-0ba13492800e",
   "metadata": {},
   "outputs": [
    {
     "data": {
      "text/plain": [
       "<function pandas.core.tools.datetimes.to_datetime(arg: 'DatetimeScalarOrArrayConvertible | DictConvertible', errors: 'DateTimeErrorChoices' = 'raise', dayfirst: 'bool' = False, yearfirst: 'bool' = False, utc: 'bool' = False, format: 'str | None' = None, exact: 'bool | lib.NoDefault' = <no_default>, unit: 'str | None' = None, infer_datetime_format: 'lib.NoDefault | bool' = <no_default>, origin: 'str' = 'unix', cache: 'bool' = True) -> 'DatetimeIndex | Series | DatetimeScalar | NaTType | None'>"
      ]
     },
     "execution_count": 8,
     "metadata": {},
     "output_type": "execute_result"
    }
   ],
   "source": [
    "#demonstrate completion\n",
    "pd.to_datetime  #(tab)"
   ]
  },
  {
   "cell_type": "code",
   "execution_count": 9,
   "id": "75960eec-6d5b-42ae-8637-35966e7abebd",
   "metadata": {
    "tags": []
   },
   "outputs": [
    {
     "data": {
      "text/plain": [
       "<function pandas.core.tools.datetimes.to_datetime(arg: 'DatetimeScalarOrArrayConvertible | DictConvertible', errors: 'DateTimeErrorChoices' = 'raise', dayfirst: 'bool' = False, yearfirst: 'bool' = False, utc: 'bool' = False, format: 'str | None' = None, exact: 'bool | lib.NoDefault' = <no_default>, unit: 'str | None' = None, infer_datetime_format: 'lib.NoDefault | bool' = <no_default>, origin: 'str' = 'unix', cache: 'bool' = True) -> 'DatetimeIndex | Series | DatetimeScalar | NaTType | None'>"
      ]
     },
     "execution_count": 9,
     "metadata": {},
     "output_type": "execute_result"
    }
   ],
   "source": [
    "#demonstate help\n",
    "pd.to_datetime #(shift-tab)"
   ]
  },
  {
   "cell_type": "code",
   "execution_count": null,
   "id": "657e9d0e-241d-4078-ac62-46bd6f6e5a09",
   "metadata": {},
   "outputs": [],
   "source": [
    "#contextual help in Help > Show Contextual Help"
   ]
  },
  {
   "cell_type": "markdown",
   "id": "d981a717-f166-46b2-8efc-67e6e350dfa5",
   "metadata": {},
   "source": [
    "### 1.2.3. Prep Data"
   ]
  },
  {
   "cell_type": "code",
   "execution_count": 10,
   "id": "84d466ef-a834-4bd5-b4e0-e39e161389be",
   "metadata": {},
   "outputs": [
    {
     "data": {
      "text/plain": [
       "Registration Time            object\n",
       "org                        category\n",
       "Registration_Time    datetime64[ns]\n",
       "dtype: object"
      ]
     },
     "execution_count": 10,
     "metadata": {},
     "output_type": "execute_result"
    }
   ],
   "source": [
    "\n",
    "df['Registration_Time'] = pd.to_datetime(df['Registration Time'])\n",
    "df['org'] = pd.Categorical(df.org, categories=['wcm', 'cu', 'other'])\n",
    "df.dtypes"
   ]
  },
  {
   "cell_type": "code",
   "execution_count": 13,
   "id": "a6b4e9cc-b9ea-4171-94e2-55936cb6d634",
   "metadata": {},
   "outputs": [
    {
     "ename": "TypeError",
     "evalue": "NDFrame.describe() got an unexpected keyword argument 'datetime_is_numeric'",
     "output_type": "error",
     "traceback": [
      "\u001b[0;31m---------------------------------------------------------------------------\u001b[0m",
      "\u001b[0;31mTypeError\u001b[0m                                 Traceback (most recent call last)",
      "Cell \u001b[0;32mIn[13], line 1\u001b[0m\n\u001b[0;32m----> 1\u001b[0m \u001b[43mdf\u001b[49m\u001b[38;5;241;43m.\u001b[39;49m\u001b[43mdescribe\u001b[49m\u001b[43m(\u001b[49m\u001b[43minclude\u001b[49m\u001b[38;5;241;43m=\u001b[39;49m\u001b[38;5;124;43m'\u001b[39;49m\u001b[38;5;124;43mall\u001b[39;49m\u001b[38;5;124;43m'\u001b[39;49m\u001b[43m,\u001b[49m\u001b[43m \u001b[49m\u001b[43mdatetime_is_numeric\u001b[49m\u001b[38;5;241;43m=\u001b[39;49m\u001b[38;5;28;43;01mTrue\u001b[39;49;00m\u001b[43m)\u001b[49m\n",
      "\u001b[0;31mTypeError\u001b[0m: NDFrame.describe() got an unexpected keyword argument 'datetime_is_numeric'"
     ]
    }
   ],
   "source": [
    "df.describe(include='all', datetime_is_numeric=True)"
   ]
  },
  {
   "cell_type": "markdown",
   "id": "879e32cd-34bd-456a-8ad9-436abbe3fee8",
   "metadata": {},
   "source": [
    "### Plot data"
   ]
  },
  {
   "cell_type": "code",
   "execution_count": 15,
   "id": "207e425f-7fbb-4433-8fbb-55cdafcb2a9e",
   "metadata": {},
   "outputs": [],
   "source": [
    "start_t =  pd.to_datetime('2022-10-18 13:00')\n",
    "stop_t = pd.to_datetime('2022-10-20 13:00')\n",
    "\n",
    "#pandas to manipulate data\n",
    "plot_df = (\n",
    "    df\n",
    "    .sort_values(\"Registration_Time\")\n",
    "    .query(\"(Registration_Time >= @start_t) & (Registration_Time <= @stop_t)\")\n",
    ")"
   ]
  },
  {
   "cell_type": "code",
   "execution_count": 16,
   "id": "87f19782-4072-4d0f-b6a5-577caf9cf621",
   "metadata": {},
   "outputs": [
    {
     "ename": "TypeError",
     "evalue": "can't compare offset-naive and offset-aware datetimes",
     "output_type": "error",
     "traceback": [
      "\u001b[0;31m---------------------------------------------------------------------------\u001b[0m",
      "\u001b[0;31mTypeError\u001b[0m                                 Traceback (most recent call last)",
      "File \u001b[0;32m~/anaconda3/envs/lab/lib/python3.10/site-packages/IPython/core/formatters.py:925\u001b[0m, in \u001b[0;36mIPythonDisplayFormatter.__call__\u001b[0;34m(self, obj)\u001b[0m\n\u001b[1;32m    923\u001b[0m method \u001b[38;5;241m=\u001b[39m get_real_method(obj, \u001b[38;5;28mself\u001b[39m\u001b[38;5;241m.\u001b[39mprint_method)\n\u001b[1;32m    924\u001b[0m \u001b[38;5;28;01mif\u001b[39;00m method \u001b[38;5;129;01mis\u001b[39;00m \u001b[38;5;129;01mnot\u001b[39;00m \u001b[38;5;28;01mNone\u001b[39;00m:\n\u001b[0;32m--> 925\u001b[0m     \u001b[43mmethod\u001b[49m\u001b[43m(\u001b[49m\u001b[43m)\u001b[49m\n\u001b[1;32m    926\u001b[0m     \u001b[38;5;28;01mreturn\u001b[39;00m \u001b[38;5;28;01mTrue\u001b[39;00m\n",
      "File \u001b[0;32m~/anaconda3/envs/lab/lib/python3.10/site-packages/plotnine/ggplot.py:141\u001b[0m, in \u001b[0;36mggplot._ipython_display_\u001b[0;34m(self)\u001b[0m\n\u001b[1;32m    134\u001b[0m \u001b[38;5;28;01mdef\u001b[39;00m \u001b[38;5;21m_ipython_display_\u001b[39m(\u001b[38;5;28mself\u001b[39m):\n\u001b[1;32m    135\u001b[0m \u001b[38;5;250m    \u001b[39m\u001b[38;5;124;03m\"\"\"\u001b[39;00m\n\u001b[1;32m    136\u001b[0m \u001b[38;5;124;03m    Display plot in the output of the cell\u001b[39;00m\n\u001b[1;32m    137\u001b[0m \n\u001b[1;32m    138\u001b[0m \u001b[38;5;124;03m    This method will always be called when a ggplot object is the\u001b[39;00m\n\u001b[1;32m    139\u001b[0m \u001b[38;5;124;03m    last in the cell.\u001b[39;00m\n\u001b[1;32m    140\u001b[0m \u001b[38;5;124;03m    \"\"\"\u001b[39;00m\n\u001b[0;32m--> 141\u001b[0m     \u001b[38;5;28;43mself\u001b[39;49m\u001b[38;5;241;43m.\u001b[39;49m\u001b[43m_display\u001b[49m\u001b[43m(\u001b[49m\u001b[43m)\u001b[49m\n",
      "File \u001b[0;32m~/anaconda3/envs/lab/lib/python3.10/site-packages/plotnine/ggplot.py:175\u001b[0m, in \u001b[0;36mggplot._display\u001b[0;34m(self)\u001b[0m\n\u001b[1;32m    172\u001b[0m     save_format \u001b[38;5;241m=\u001b[39m \u001b[38;5;124m\"\u001b[39m\u001b[38;5;124mpng\u001b[39m\u001b[38;5;124m\"\u001b[39m\n\u001b[1;32m    174\u001b[0m buf \u001b[38;5;241m=\u001b[39m BytesIO()\n\u001b[0;32m--> 175\u001b[0m \u001b[38;5;28;43mself\u001b[39;49m\u001b[38;5;241;43m.\u001b[39;49m\u001b[43msave\u001b[49m\u001b[43m(\u001b[49m\u001b[43mbuf\u001b[49m\u001b[43m,\u001b[49m\u001b[43m \u001b[49m\u001b[38;5;28;43mformat\u001b[39;49m\u001b[38;5;241;43m=\u001b[39;49m\u001b[43msave_format\u001b[49m\u001b[43m,\u001b[49m\u001b[43m \u001b[49m\u001b[43mverbose\u001b[49m\u001b[38;5;241;43m=\u001b[39;49m\u001b[38;5;28;43;01mFalse\u001b[39;49;00m\u001b[43m)\u001b[49m\n\u001b[1;32m    176\u001b[0m display_func \u001b[38;5;241m=\u001b[39m get_display_function(\u001b[38;5;28mformat\u001b[39m)\n\u001b[1;32m    177\u001b[0m display_func(buf\u001b[38;5;241m.\u001b[39mgetvalue())\n",
      "File \u001b[0;32m~/anaconda3/envs/lab/lib/python3.10/site-packages/plotnine/ggplot.py:663\u001b[0m, in \u001b[0;36mggplot.save\u001b[0;34m(self, filename, format, path, width, height, units, dpi, limitsize, verbose, **kwargs)\u001b[0m\n\u001b[1;32m    615\u001b[0m \u001b[38;5;28;01mdef\u001b[39;00m \u001b[38;5;21msave\u001b[39m(\n\u001b[1;32m    616\u001b[0m     \u001b[38;5;28mself\u001b[39m,\n\u001b[1;32m    617\u001b[0m     filename: Optional[\u001b[38;5;28mstr\u001b[39m \u001b[38;5;241m|\u001b[39m Path \u001b[38;5;241m|\u001b[39m BytesIO] \u001b[38;5;241m=\u001b[39m \u001b[38;5;28;01mNone\u001b[39;00m,\n\u001b[0;32m   (...)\u001b[0m\n\u001b[1;32m    626\u001b[0m     \u001b[38;5;241m*\u001b[39m\u001b[38;5;241m*\u001b[39mkwargs: Any,\n\u001b[1;32m    627\u001b[0m ):\n\u001b[1;32m    628\u001b[0m \u001b[38;5;250m    \u001b[39m\u001b[38;5;124;03m\"\"\"\u001b[39;00m\n\u001b[1;32m    629\u001b[0m \u001b[38;5;124;03m    Save a ggplot object as an image file\u001b[39;00m\n\u001b[1;32m    630\u001b[0m \n\u001b[0;32m   (...)\u001b[0m\n\u001b[1;32m    661\u001b[0m \u001b[38;5;124;03m        Additional arguments to pass to matplotlib `savefig()`.\u001b[39;00m\n\u001b[1;32m    662\u001b[0m \u001b[38;5;124;03m    \"\"\"\u001b[39;00m\n\u001b[0;32m--> 663\u001b[0m     sv \u001b[38;5;241m=\u001b[39m \u001b[38;5;28;43mself\u001b[39;49m\u001b[38;5;241;43m.\u001b[39;49m\u001b[43msave_helper\u001b[49m\u001b[43m(\u001b[49m\n\u001b[1;32m    664\u001b[0m \u001b[43m        \u001b[49m\u001b[43mfilename\u001b[49m\u001b[38;5;241;43m=\u001b[39;49m\u001b[43mfilename\u001b[49m\u001b[43m,\u001b[49m\n\u001b[1;32m    665\u001b[0m \u001b[43m        \u001b[49m\u001b[38;5;28;43mformat\u001b[39;49m\u001b[38;5;241;43m=\u001b[39;49m\u001b[38;5;28;43mformat\u001b[39;49m\u001b[43m,\u001b[49m\n\u001b[1;32m    666\u001b[0m \u001b[43m        \u001b[49m\u001b[43mpath\u001b[49m\u001b[38;5;241;43m=\u001b[39;49m\u001b[43mpath\u001b[49m\u001b[43m,\u001b[49m\n\u001b[1;32m    667\u001b[0m \u001b[43m        \u001b[49m\u001b[43mwidth\u001b[49m\u001b[38;5;241;43m=\u001b[39;49m\u001b[43mwidth\u001b[49m\u001b[43m,\u001b[49m\n\u001b[1;32m    668\u001b[0m \u001b[43m        \u001b[49m\u001b[43mheight\u001b[49m\u001b[38;5;241;43m=\u001b[39;49m\u001b[43mheight\u001b[49m\u001b[43m,\u001b[49m\n\u001b[1;32m    669\u001b[0m \u001b[43m        \u001b[49m\u001b[43munits\u001b[49m\u001b[38;5;241;43m=\u001b[39;49m\u001b[43munits\u001b[49m\u001b[43m,\u001b[49m\n\u001b[1;32m    670\u001b[0m \u001b[43m        \u001b[49m\u001b[43mdpi\u001b[49m\u001b[38;5;241;43m=\u001b[39;49m\u001b[43mdpi\u001b[49m\u001b[43m,\u001b[49m\n\u001b[1;32m    671\u001b[0m \u001b[43m        \u001b[49m\u001b[43mlimitsize\u001b[49m\u001b[38;5;241;43m=\u001b[39;49m\u001b[43mlimitsize\u001b[49m\u001b[43m,\u001b[49m\n\u001b[1;32m    672\u001b[0m \u001b[43m        \u001b[49m\u001b[43mverbose\u001b[49m\u001b[38;5;241;43m=\u001b[39;49m\u001b[43mverbose\u001b[49m\u001b[43m,\u001b[49m\n\u001b[1;32m    673\u001b[0m \u001b[43m        \u001b[49m\u001b[38;5;241;43m*\u001b[39;49m\u001b[38;5;241;43m*\u001b[39;49m\u001b[43mkwargs\u001b[49m\u001b[43m,\u001b[49m\n\u001b[1;32m    674\u001b[0m \u001b[43m    \u001b[49m\u001b[43m)\u001b[49m\n\u001b[1;32m    676\u001b[0m     \u001b[38;5;28;01mwith\u001b[39;00m plot_context(\u001b[38;5;28mself\u001b[39m)\u001b[38;5;241m.\u001b[39mrc_context:\n\u001b[1;32m    677\u001b[0m         sv\u001b[38;5;241m.\u001b[39mfigure\u001b[38;5;241m.\u001b[39msavefig(\u001b[38;5;241m*\u001b[39m\u001b[38;5;241m*\u001b[39msv\u001b[38;5;241m.\u001b[39mkwargs)\n",
      "File \u001b[0;32m~/anaconda3/envs/lab/lib/python3.10/site-packages/plotnine/ggplot.py:612\u001b[0m, in \u001b[0;36mggplot.save_helper\u001b[0;34m(self, filename, format, path, width, height, units, dpi, limitsize, verbose, **kwargs)\u001b[0m\n\u001b[1;32m    609\u001b[0m \u001b[38;5;28;01mif\u001b[39;00m dpi \u001b[38;5;129;01mis\u001b[39;00m \u001b[38;5;129;01mnot\u001b[39;00m \u001b[38;5;28;01mNone\u001b[39;00m:\n\u001b[1;32m    610\u001b[0m     \u001b[38;5;28mself\u001b[39m\u001b[38;5;241m.\u001b[39mtheme \u001b[38;5;241m=\u001b[39m \u001b[38;5;28mself\u001b[39m\u001b[38;5;241m.\u001b[39mtheme \u001b[38;5;241m+\u001b[39m theme(dpi\u001b[38;5;241m=\u001b[39mdpi)\n\u001b[0;32m--> 612\u001b[0m figure \u001b[38;5;241m=\u001b[39m \u001b[38;5;28;43mself\u001b[39;49m\u001b[38;5;241;43m.\u001b[39;49m\u001b[43mdraw\u001b[49m\u001b[43m(\u001b[49m\u001b[43mshow\u001b[49m\u001b[38;5;241;43m=\u001b[39;49m\u001b[38;5;28;43;01mFalse\u001b[39;49;00m\u001b[43m)\u001b[49m\n\u001b[1;32m    613\u001b[0m \u001b[38;5;28;01mreturn\u001b[39;00m mpl_save_view(figure, fig_kwargs)\n",
      "File \u001b[0;32m~/anaconda3/envs/lab/lib/python3.10/site-packages/plotnine/ggplot.py:272\u001b[0m, in \u001b[0;36mggplot.draw\u001b[0;34m(self, show)\u001b[0m\n\u001b[1;32m    270\u001b[0m \u001b[38;5;28mself\u001b[39m \u001b[38;5;241m=\u001b[39m deepcopy(\u001b[38;5;28mself\u001b[39m)\n\u001b[1;32m    271\u001b[0m \u001b[38;5;28;01mwith\u001b[39;00m plot_context(\u001b[38;5;28mself\u001b[39m, show\u001b[38;5;241m=\u001b[39mshow):\n\u001b[0;32m--> 272\u001b[0m     \u001b[38;5;28;43mself\u001b[39;49m\u001b[38;5;241;43m.\u001b[39;49m\u001b[43m_build\u001b[49m\u001b[43m(\u001b[49m\u001b[43m)\u001b[49m\n\u001b[1;32m    274\u001b[0m     \u001b[38;5;66;03m# setup\u001b[39;00m\n\u001b[1;32m    275\u001b[0m     \u001b[38;5;28mself\u001b[39m\u001b[38;5;241m.\u001b[39mfigure, \u001b[38;5;28mself\u001b[39m\u001b[38;5;241m.\u001b[39maxs \u001b[38;5;241m=\u001b[39m \u001b[38;5;28mself\u001b[39m\u001b[38;5;241m.\u001b[39mfacet\u001b[38;5;241m.\u001b[39msetup(\u001b[38;5;28mself\u001b[39m)\n",
      "File \u001b[0;32m~/anaconda3/envs/lab/lib/python3.10/site-packages/plotnine/ggplot.py:400\u001b[0m, in \u001b[0;36mggplot._build\u001b[0;34m(self)\u001b[0m\n\u001b[1;32m    397\u001b[0m     layers\u001b[38;5;241m.\u001b[39mmap(npscales)\n\u001b[1;32m    399\u001b[0m \u001b[38;5;66;03m# Train coordinate system\u001b[39;00m\n\u001b[0;32m--> 400\u001b[0m \u001b[43mlayout\u001b[49m\u001b[38;5;241;43m.\u001b[39;49m\u001b[43msetup_panel_params\u001b[49m\u001b[43m(\u001b[49m\u001b[38;5;28;43mself\u001b[39;49m\u001b[38;5;241;43m.\u001b[39;49m\u001b[43mcoordinates\u001b[49m\u001b[43m)\u001b[49m\n\u001b[1;32m    402\u001b[0m \u001b[38;5;66;03m# fill in the defaults\u001b[39;00m\n\u001b[1;32m    403\u001b[0m layers\u001b[38;5;241m.\u001b[39muse_defaults_after_scale()\n",
      "File \u001b[0;32m~/anaconda3/envs/lab/lib/python3.10/site-packages/plotnine/facets/layout.py:198\u001b[0m, in \u001b[0;36mLayout.setup_panel_params\u001b[0;34m(self, coord)\u001b[0m\n\u001b[1;32m    196\u001b[0m \u001b[38;5;28;01mfor\u001b[39;00m i, j \u001b[38;5;129;01min\u001b[39;00m \u001b[38;5;28mself\u001b[39m\u001b[38;5;241m.\u001b[39mlayout[cols]\u001b[38;5;241m.\u001b[39mitertuples(index\u001b[38;5;241m=\u001b[39m\u001b[38;5;28;01mFalse\u001b[39;00m):\n\u001b[1;32m    197\u001b[0m     i, j \u001b[38;5;241m=\u001b[39m i \u001b[38;5;241m-\u001b[39m \u001b[38;5;241m1\u001b[39m, j \u001b[38;5;241m-\u001b[39m \u001b[38;5;241m1\u001b[39m\n\u001b[0;32m--> 198\u001b[0m     params \u001b[38;5;241m=\u001b[39m \u001b[43mcoord\u001b[49m\u001b[38;5;241;43m.\u001b[39;49m\u001b[43msetup_panel_params\u001b[49m\u001b[43m(\u001b[49m\n\u001b[1;32m    199\u001b[0m \u001b[43m        \u001b[49m\u001b[38;5;28;43mself\u001b[39;49m\u001b[38;5;241;43m.\u001b[39;49m\u001b[43mpanel_scales_x\u001b[49m\u001b[43m[\u001b[49m\u001b[43mi\u001b[49m\u001b[43m]\u001b[49m\u001b[43m,\u001b[49m\u001b[43m \u001b[49m\u001b[38;5;28;43mself\u001b[39;49m\u001b[38;5;241;43m.\u001b[39;49m\u001b[43mpanel_scales_y\u001b[49m\u001b[43m[\u001b[49m\u001b[43mj\u001b[49m\u001b[43m]\u001b[49m\n\u001b[1;32m    200\u001b[0m \u001b[43m    \u001b[49m\u001b[43m)\u001b[49m\n\u001b[1;32m    201\u001b[0m     \u001b[38;5;28mself\u001b[39m\u001b[38;5;241m.\u001b[39mpanel_params\u001b[38;5;241m.\u001b[39mappend(params)\n",
      "File \u001b[0;32m~/anaconda3/envs/lab/lib/python3.10/site-packages/plotnine/coords/coord_cartesian.py:80\u001b[0m, in \u001b[0;36mcoord_cartesian.setup_panel_params\u001b[0;34m(self, scale_x, scale_y)\u001b[0m\n\u001b[1;32m     76\u001b[0m     sv \u001b[38;5;241m=\u001b[39m scale\u001b[38;5;241m.\u001b[39mview(limits\u001b[38;5;241m=\u001b[39mcoord_limits, \u001b[38;5;28mrange\u001b[39m\u001b[38;5;241m=\u001b[39mranges\u001b[38;5;241m.\u001b[39mrange)\n\u001b[1;32m     77\u001b[0m     \u001b[38;5;28;01mreturn\u001b[39;00m sv\n\u001b[1;32m     79\u001b[0m out \u001b[38;5;241m=\u001b[39m panel_view(\n\u001b[0;32m---> 80\u001b[0m     x\u001b[38;5;241m=\u001b[39m\u001b[43mget_scale_view\u001b[49m\u001b[43m(\u001b[49m\u001b[43mscale_x\u001b[49m\u001b[43m,\u001b[49m\u001b[43m \u001b[49m\u001b[38;5;28;43mself\u001b[39;49m\u001b[38;5;241;43m.\u001b[39;49m\u001b[43mlimits\u001b[49m\u001b[38;5;241;43m.\u001b[39;49m\u001b[43mx\u001b[49m\u001b[43m)\u001b[49m,\n\u001b[1;32m     81\u001b[0m     y\u001b[38;5;241m=\u001b[39mget_scale_view(scale_y, \u001b[38;5;28mself\u001b[39m\u001b[38;5;241m.\u001b[39mlimits\u001b[38;5;241m.\u001b[39my),\n\u001b[1;32m     82\u001b[0m )\n\u001b[1;32m     83\u001b[0m \u001b[38;5;28;01mreturn\u001b[39;00m out\n",
      "File \u001b[0;32m~/anaconda3/envs/lab/lib/python3.10/site-packages/plotnine/coords/coord_cartesian.py:76\u001b[0m, in \u001b[0;36mcoord_cartesian.setup_panel_params.<locals>.get_scale_view\u001b[0;34m(scale, coord_limits)\u001b[0m\n\u001b[1;32m     72\u001b[0m expansion \u001b[38;5;241m=\u001b[39m scale\u001b[38;5;241m.\u001b[39mdefault_expansion(expand\u001b[38;5;241m=\u001b[39m\u001b[38;5;28mself\u001b[39m\u001b[38;5;241m.\u001b[39mexpand)\n\u001b[1;32m     73\u001b[0m ranges \u001b[38;5;241m=\u001b[39m scale\u001b[38;5;241m.\u001b[39mexpand_limits(\n\u001b[1;32m     74\u001b[0m     scale\u001b[38;5;241m.\u001b[39mlimits, expansion, coord_limits, identity_trans\n\u001b[1;32m     75\u001b[0m )\n\u001b[0;32m---> 76\u001b[0m sv \u001b[38;5;241m=\u001b[39m \u001b[43mscale\u001b[49m\u001b[38;5;241;43m.\u001b[39;49m\u001b[43mview\u001b[49m\u001b[43m(\u001b[49m\u001b[43mlimits\u001b[49m\u001b[38;5;241;43m=\u001b[39;49m\u001b[43mcoord_limits\u001b[49m\u001b[43m,\u001b[49m\u001b[43m \u001b[49m\u001b[38;5;28;43mrange\u001b[39;49m\u001b[38;5;241;43m=\u001b[39;49m\u001b[43mranges\u001b[49m\u001b[38;5;241;43m.\u001b[39;49m\u001b[43mrange\u001b[49m\u001b[43m)\u001b[49m\n\u001b[1;32m     77\u001b[0m \u001b[38;5;28;01mreturn\u001b[39;00m sv\n",
      "File \u001b[0;32m~/anaconda3/envs/lab/lib/python3.10/site-packages/plotnine/scales/scale_continuous.py:302\u001b[0m, in \u001b[0;36mscale_continuous.view\u001b[0;34m(self, limits, range)\u001b[0m\n\u001b[1;32m    299\u001b[0m \u001b[38;5;28;01mif\u001b[39;00m \u001b[38;5;28mrange\u001b[39m \u001b[38;5;129;01mis\u001b[39;00m \u001b[38;5;28;01mNone\u001b[39;00m:\n\u001b[1;32m    300\u001b[0m     \u001b[38;5;28mrange\u001b[39m \u001b[38;5;241m=\u001b[39m \u001b[38;5;28mself\u001b[39m\u001b[38;5;241m.\u001b[39mdimension(limits\u001b[38;5;241m=\u001b[39mlimits)\n\u001b[0;32m--> 302\u001b[0m breaks \u001b[38;5;241m=\u001b[39m \u001b[38;5;28;43mself\u001b[39;49m\u001b[38;5;241;43m.\u001b[39;49m\u001b[43mget_bounded_breaks\u001b[49m\u001b[43m(\u001b[49m\u001b[38;5;28;43mrange\u001b[39;49m\u001b[43m)\u001b[49m\n\u001b[1;32m    303\u001b[0m labels \u001b[38;5;241m=\u001b[39m \u001b[38;5;28mself\u001b[39m\u001b[38;5;241m.\u001b[39mget_labels(breaks)\n\u001b[1;32m    305\u001b[0m ubreaks \u001b[38;5;241m=\u001b[39m \u001b[38;5;28mself\u001b[39m\u001b[38;5;241m.\u001b[39mget_breaks(\u001b[38;5;28mrange\u001b[39m)\n",
      "File \u001b[0;32m~/anaconda3/envs/lab/lib/python3.10/site-packages/plotnine/scales/scale_continuous.py:403\u001b[0m, in \u001b[0;36mscale_continuous.get_bounded_breaks\u001b[0;34m(self, limits)\u001b[0m\n\u001b[1;32m    401\u001b[0m \u001b[38;5;28;01mif\u001b[39;00m limits \u001b[38;5;129;01mis\u001b[39;00m \u001b[38;5;28;01mNone\u001b[39;00m:\n\u001b[1;32m    402\u001b[0m     limits \u001b[38;5;241m=\u001b[39m \u001b[38;5;28mself\u001b[39m\u001b[38;5;241m.\u001b[39mlimits\n\u001b[0;32m--> 403\u001b[0m breaks \u001b[38;5;241m=\u001b[39m \u001b[38;5;28;43mself\u001b[39;49m\u001b[38;5;241;43m.\u001b[39;49m\u001b[43mget_breaks\u001b[49m\u001b[43m(\u001b[49m\u001b[43mlimits\u001b[49m\u001b[43m)\u001b[49m\n\u001b[1;32m    404\u001b[0m strict_breaks \u001b[38;5;241m=\u001b[39m [b \u001b[38;5;28;01mfor\u001b[39;00m b \u001b[38;5;129;01min\u001b[39;00m breaks \u001b[38;5;28;01mif\u001b[39;00m limits[\u001b[38;5;241m0\u001b[39m] \u001b[38;5;241m<\u001b[39m\u001b[38;5;241m=\u001b[39m b \u001b[38;5;241m<\u001b[39m\u001b[38;5;241m=\u001b[39m limits[\u001b[38;5;241m1\u001b[39m]]\n\u001b[1;32m    405\u001b[0m \u001b[38;5;28;01mreturn\u001b[39;00m strict_breaks\n",
      "File \u001b[0;32m~/anaconda3/envs/lab/lib/python3.10/site-packages/plotnine/scales/scale_continuous.py:383\u001b[0m, in \u001b[0;36mscale_continuous.get_breaks\u001b[0;34m(self, limits)\u001b[0m\n\u001b[1;32m    379\u001b[0m     breaks \u001b[38;5;241m=\u001b[39m []\n\u001b[1;32m    380\u001b[0m \u001b[38;5;28;01melif\u001b[39;00m \u001b[38;5;28mself\u001b[39m\u001b[38;5;241m.\u001b[39mbreaks \u001b[38;5;129;01mis\u001b[39;00m \u001b[38;5;28;01mTrue\u001b[39;00m:\n\u001b[1;32m    381\u001b[0m     \u001b[38;5;66;03m# TODO: Fix this type mismatch in mizani with\u001b[39;00m\n\u001b[1;32m    382\u001b[0m     \u001b[38;5;66;03m# a typevar so that type-in = type-out\u001b[39;00m\n\u001b[0;32m--> 383\u001b[0m     _tlimits \u001b[38;5;241m=\u001b[39m \u001b[38;5;28;43mself\u001b[39;49m\u001b[38;5;241;43m.\u001b[39;49m\u001b[43mtrans\u001b[49m\u001b[38;5;241;43m.\u001b[39;49m\u001b[43mbreaks\u001b[49m\u001b[43m(\u001b[49m\u001b[43m_limits\u001b[49m\u001b[43m)\u001b[49m\n\u001b[1;32m    384\u001b[0m     breaks: ScaleContinuousBreaks \u001b[38;5;241m=\u001b[39m _tlimits  \u001b[38;5;66;03m# pyright: ignore\u001b[39;00m\n\u001b[1;32m    385\u001b[0m \u001b[38;5;28;01melif\u001b[39;00m zero_range(_limits):\n",
      "File \u001b[0;32m~/anaconda3/envs/lab/lib/python3.10/site-packages/mizani/transforms.py:224\u001b[0m, in \u001b[0;36mtrans.breaks\u001b[0;34m(self, limits)\u001b[0m\n\u001b[1;32m    218\u001b[0m \u001b[38;5;66;03m# clip the breaks to the domain,\u001b[39;00m\n\u001b[1;32m    219\u001b[0m \u001b[38;5;66;03m# e.g. probabilities will be in [0, 1] domain\u001b[39;00m\n\u001b[1;32m    220\u001b[0m limits \u001b[38;5;241m=\u001b[39m (\n\u001b[1;32m    221\u001b[0m     \u001b[38;5;28mmax\u001b[39m(\u001b[38;5;28mself\u001b[39m\u001b[38;5;241m.\u001b[39mdomain[\u001b[38;5;241m0\u001b[39m], limits[\u001b[38;5;241m0\u001b[39m]),\n\u001b[1;32m    222\u001b[0m     \u001b[38;5;28mmin\u001b[39m(\u001b[38;5;28mself\u001b[39m\u001b[38;5;241m.\u001b[39mdomain[\u001b[38;5;241m1\u001b[39m], limits[\u001b[38;5;241m1\u001b[39m]),\n\u001b[1;32m    223\u001b[0m )\n\u001b[0;32m--> 224\u001b[0m breaks \u001b[38;5;241m=\u001b[39m np\u001b[38;5;241m.\u001b[39masarray(\u001b[38;5;28;43mself\u001b[39;49m\u001b[38;5;241;43m.\u001b[39;49m\u001b[43mbreaks_\u001b[49m\u001b[43m(\u001b[49m\u001b[43mlimits\u001b[49m\u001b[43m)\u001b[49m)\n\u001b[1;32m    226\u001b[0m \u001b[38;5;66;03m# Some methods (e.g. breaks_extended) that\u001b[39;00m\n\u001b[1;32m    227\u001b[0m \u001b[38;5;66;03m# calculate breaks take the limits as guide posts and\u001b[39;00m\n\u001b[1;32m    228\u001b[0m \u001b[38;5;66;03m# not hard limits.\u001b[39;00m\n\u001b[1;32m    229\u001b[0m breaks \u001b[38;5;241m=\u001b[39m breaks\u001b[38;5;241m.\u001b[39mcompress(\n\u001b[1;32m    230\u001b[0m     (breaks \u001b[38;5;241m>\u001b[39m\u001b[38;5;241m=\u001b[39m \u001b[38;5;28mself\u001b[39m\u001b[38;5;241m.\u001b[39mdomain[\u001b[38;5;241m0\u001b[39m]) \u001b[38;5;241m&\u001b[39m (breaks \u001b[38;5;241m<\u001b[39m\u001b[38;5;241m=\u001b[39m \u001b[38;5;28mself\u001b[39m\u001b[38;5;241m.\u001b[39mdomain[\u001b[38;5;241m1\u001b[39m])\n\u001b[1;32m    231\u001b[0m )\n",
      "File \u001b[0;32m~/anaconda3/envs/lab/lib/python3.10/site-packages/mizani/breaks.py:481\u001b[0m, in \u001b[0;36mbreaks_date.__call__\u001b[0;34m(self, limits)\u001b[0m\n\u001b[1;32m    477\u001b[0m     \u001b[38;5;28;01mreturn\u001b[39;00m calculate_date_breaks_byunits(\n\u001b[1;32m    478\u001b[0m         limits, \u001b[38;5;28mself\u001b[39m\u001b[38;5;241m.\u001b[39munits, \u001b[38;5;28mself\u001b[39m\u001b[38;5;241m.\u001b[39mwidth\n\u001b[1;32m    479\u001b[0m     )\n\u001b[1;32m    480\u001b[0m \u001b[38;5;28;01melse\u001b[39;00m:\n\u001b[0;32m--> 481\u001b[0m     \u001b[38;5;28;01mreturn\u001b[39;00m \u001b[43mcalculate_date_breaks_auto\u001b[49m\u001b[43m(\u001b[49m\u001b[43mlimits\u001b[49m\u001b[43m,\u001b[49m\u001b[43m \u001b[49m\u001b[38;5;28;43mself\u001b[39;49m\u001b[38;5;241;43m.\u001b[39;49m\u001b[43mn\u001b[49m\u001b[43m)\u001b[49m\n",
      "File \u001b[0;32m~/anaconda3/envs/lab/lib/python3.10/site-packages/mizani/_core/dates.py:280\u001b[0m, in \u001b[0;36mcalculate_date_breaks_auto\u001b[0;34m(limits, n)\u001b[0m\n\u001b[1;32m    276\u001b[0m \u001b[38;5;28;01mdef\u001b[39;00m \u001b[38;5;21mcalculate_date_breaks_auto\u001b[39m(limits, n: \u001b[38;5;28mint\u001b[39m \u001b[38;5;241m=\u001b[39m \u001b[38;5;241m5\u001b[39m) \u001b[38;5;241m-\u001b[39m\u001b[38;5;241m>\u001b[39m Sequence[datetime]:\n\u001b[1;32m    277\u001b[0m \u001b[38;5;250m    \u001b[39m\u001b[38;5;124;03m\"\"\"\u001b[39;00m\n\u001b[1;32m    278\u001b[0m \u001b[38;5;124;03m    Calcuate date breaks using appropriate units\u001b[39;00m\n\u001b[1;32m    279\u001b[0m \u001b[38;5;124;03m    \"\"\"\u001b[39;00m\n\u001b[0;32m--> 280\u001b[0m     info \u001b[38;5;241m=\u001b[39m \u001b[43mcalculate_date_breaks_info\u001b[49m\u001b[43m(\u001b[49m\u001b[43mlimits\u001b[49m\u001b[43m,\u001b[49m\u001b[43m \u001b[49m\u001b[43mn\u001b[49m\u001b[38;5;241;43m=\u001b[39;49m\u001b[43mn\u001b[49m\u001b[43m)\u001b[49m\n\u001b[1;32m    281\u001b[0m     lookup \u001b[38;5;241m=\u001b[39m {\n\u001b[1;32m    282\u001b[0m         DF\u001b[38;5;241m.\u001b[39mYEARLY: yearly_breaks,\n\u001b[1;32m    283\u001b[0m         DF\u001b[38;5;241m.\u001b[39mMONTHLY: monthly_breaks,\n\u001b[0;32m   (...)\u001b[0m\n\u001b[1;32m    288\u001b[0m         DF\u001b[38;5;241m.\u001b[39mMICROSECONDLY: microsecondly_breaks,\n\u001b[1;32m    289\u001b[0m     }\n\u001b[1;32m    290\u001b[0m     \u001b[38;5;28;01mreturn\u001b[39;00m lookup[info\u001b[38;5;241m.\u001b[39mfrequency](info)\n",
      "File \u001b[0;32m~/anaconda3/envs/lab/lib/python3.10/site-packages/mizani/_core/dates.py:232\u001b[0m, in \u001b[0;36mcalculate_date_breaks_info\u001b[0;34m(limits, n)\u001b[0m\n\u001b[1;32m    225\u001b[0m \u001b[38;5;66;03m# Widen the duration at each granularity\u001b[39;00m\n\u001b[1;32m    226\u001b[0m itv \u001b[38;5;241m=\u001b[39m Interval(\u001b[38;5;241m*\u001b[39mlimits)\n\u001b[1;32m    227\u001b[0m unit_durations \u001b[38;5;241m=\u001b[39m (\n\u001b[1;32m    228\u001b[0m     itv\u001b[38;5;241m.\u001b[39my_wide,\n\u001b[1;32m    229\u001b[0m     itv\u001b[38;5;241m.\u001b[39mM_wide,\n\u001b[1;32m    230\u001b[0m     itv\u001b[38;5;241m.\u001b[39md_wide,\n\u001b[1;32m    231\u001b[0m     itv\u001b[38;5;241m.\u001b[39mh_wide,\n\u001b[0;32m--> 232\u001b[0m     \u001b[43mitv\u001b[49m\u001b[38;5;241;43m.\u001b[39;49m\u001b[43mm_wide\u001b[49m,\n\u001b[1;32m    233\u001b[0m     itv\u001b[38;5;241m.\u001b[39ms,\n\u001b[1;32m    234\u001b[0m     itv\u001b[38;5;241m.\u001b[39mu,\n\u001b[1;32m    235\u001b[0m )\n\u001b[1;32m    236\u001b[0m \u001b[38;5;66;03m# Search frequencies from longest (yearly) to the smallest\u001b[39;00m\n\u001b[1;32m    237\u001b[0m \u001b[38;5;66;03m# for one that would a good width between the breaks\u001b[39;00m\n\u001b[1;32m    238\u001b[0m \n\u001b[1;32m    239\u001b[0m \u001b[38;5;66;03m# Defaults\u001b[39;00m\n\u001b[1;32m    240\u001b[0m freq \u001b[38;5;241m=\u001b[39m DF\u001b[38;5;241m.\u001b[39mYEARLY  \u001b[38;5;66;03m# makes pyright happy\u001b[39;00m\n",
      "File \u001b[0;32m~/anaconda3/envs/lab/lib/python3.10/site-packages/mizani/_core/date_utils.py:131\u001b[0m, in \u001b[0;36mInterval.m_wide\u001b[0;34m(self)\u001b[0m\n\u001b[1;32m    126\u001b[0m \u001b[38;5;129m@property\u001b[39m\n\u001b[1;32m    127\u001b[0m \u001b[38;5;28;01mdef\u001b[39;00m \u001b[38;5;21mm_wide\u001b[39m(\u001b[38;5;28mself\u001b[39m) \u001b[38;5;241m-\u001b[39m\u001b[38;5;241m>\u001b[39m \u001b[38;5;28mint\u001b[39m:\n\u001b[1;32m    128\u001b[0m \u001b[38;5;250m    \u001b[39m\u001b[38;5;124;03m\"\"\"\u001b[39;00m\n\u001b[1;32m    129\u001b[0m \u001b[38;5;124;03m    Minutes (enclosing the original)\u001b[39;00m\n\u001b[1;32m    130\u001b[0m \u001b[38;5;124;03m    \"\"\"\u001b[39;00m\n\u001b[0;32m--> 131\u001b[0m     \u001b[38;5;28;01mreturn\u001b[39;00m \u001b[43mInterval\u001b[49m\u001b[43m(\u001b[49m\u001b[38;5;241;43m*\u001b[39;49m\u001b[38;5;28;43mself\u001b[39;49m\u001b[38;5;241;43m.\u001b[39;49m\u001b[43mlimits_minute\u001b[49m\u001b[43m(\u001b[49m\u001b[43m)\u001b[49m\u001b[43m)\u001b[49m\u001b[38;5;241m.\u001b[39mm\n",
      "File \u001b[0;32m<string>:5\u001b[0m, in \u001b[0;36m__init__\u001b[0;34m(self, start, end)\u001b[0m\n",
      "File \u001b[0;32m~/anaconda3/envs/lab/lib/python3.10/site-packages/mizani/_core/date_utils.py:46\u001b[0m, in \u001b[0;36mInterval.__post_init__\u001b[0;34m(self)\u001b[0m\n\u001b[1;32m     43\u001b[0m \u001b[38;5;28;01mif\u001b[39;00m \u001b[38;5;28misinstance\u001b[39m(\u001b[38;5;28mself\u001b[39m\u001b[38;5;241m.\u001b[39mend, date):\n\u001b[1;32m     44\u001b[0m     \u001b[38;5;28mself\u001b[39m\u001b[38;5;241m.\u001b[39mend \u001b[38;5;241m=\u001b[39m datetime\u001b[38;5;241m.\u001b[39mfromisoformat(\u001b[38;5;28mself\u001b[39m\u001b[38;5;241m.\u001b[39mend\u001b[38;5;241m.\u001b[39misoformat())\n\u001b[0;32m---> 46\u001b[0m \u001b[38;5;28mself\u001b[39m\u001b[38;5;241m.\u001b[39m_delta \u001b[38;5;241m=\u001b[39m \u001b[43mrelativedelta\u001b[49m\u001b[43m(\u001b[49m\u001b[38;5;28;43mself\u001b[39;49m\u001b[38;5;241;43m.\u001b[39;49m\u001b[43mend\u001b[49m\u001b[43m,\u001b[49m\u001b[43m \u001b[49m\u001b[38;5;28;43mself\u001b[39;49m\u001b[38;5;241;43m.\u001b[39;49m\u001b[43mstart\u001b[49m\u001b[43m)\u001b[49m\n\u001b[1;32m     47\u001b[0m \u001b[38;5;28mself\u001b[39m\u001b[38;5;241m.\u001b[39m_tdelta \u001b[38;5;241m=\u001b[39m \u001b[38;5;28mself\u001b[39m\u001b[38;5;241m.\u001b[39mend \u001b[38;5;241m-\u001b[39m \u001b[38;5;28mself\u001b[39m\u001b[38;5;241m.\u001b[39mstart\n",
      "File \u001b[0;32m~/anaconda3/envs/lab/lib/python3.10/site-packages/dateutil/relativedelta.py:154\u001b[0m, in \u001b[0;36mrelativedelta.__init__\u001b[0;34m(self, dt1, dt2, years, months, days, leapdays, weeks, hours, minutes, seconds, microseconds, year, month, day, weekday, yearday, nlyearday, hour, minute, second, microsecond)\u001b[0m\n\u001b[1;32m    151\u001b[0m dtm \u001b[38;5;241m=\u001b[39m \u001b[38;5;28mself\u001b[39m\u001b[38;5;241m.\u001b[39m\u001b[38;5;21m__radd__\u001b[39m(dt2)\n\u001b[1;32m    153\u001b[0m \u001b[38;5;66;03m# If we've overshot our target, make an adjustment\u001b[39;00m\n\u001b[0;32m--> 154\u001b[0m \u001b[38;5;28;01mif\u001b[39;00m \u001b[43mdt1\u001b[49m\u001b[43m \u001b[49m\u001b[38;5;241;43m<\u001b[39;49m\u001b[43m \u001b[49m\u001b[43mdt2\u001b[49m:\n\u001b[1;32m    155\u001b[0m     compare \u001b[38;5;241m=\u001b[39m operator\u001b[38;5;241m.\u001b[39mgt\n\u001b[1;32m    156\u001b[0m     increment \u001b[38;5;241m=\u001b[39m \u001b[38;5;241m1\u001b[39m\n",
      "\u001b[0;31mTypeError\u001b[0m: can't compare offset-naive and offset-aware datetimes"
     ]
    },
    {
     "name": "stderr",
     "output_type": "stream",
     "text": [
      "/home/david/anaconda3/envs/lab/lib/python3.10/site-packages/IPython/lib/pretty.py:779: FutureWarning: Using repr(plot) to draw and show the plot figure is deprecated and will be removed in a future version. Use plot.show().\n"
     ]
    },
    {
     "ename": "TypeError",
     "evalue": "can't compare offset-naive and offset-aware datetimes",
     "output_type": "error",
     "traceback": [
      "\u001b[0;31m---------------------------------------------------------------------------\u001b[0m",
      "\u001b[0;31mTypeError\u001b[0m                                 Traceback (most recent call last)",
      "File \u001b[0;32m~/anaconda3/envs/lab/lib/python3.10/site-packages/IPython/core/formatters.py:711\u001b[0m, in \u001b[0;36mPlainTextFormatter.__call__\u001b[0;34m(self, obj)\u001b[0m\n\u001b[1;32m    704\u001b[0m stream \u001b[38;5;241m=\u001b[39m StringIO()\n\u001b[1;32m    705\u001b[0m printer \u001b[38;5;241m=\u001b[39m pretty\u001b[38;5;241m.\u001b[39mRepresentationPrinter(stream, \u001b[38;5;28mself\u001b[39m\u001b[38;5;241m.\u001b[39mverbose,\n\u001b[1;32m    706\u001b[0m     \u001b[38;5;28mself\u001b[39m\u001b[38;5;241m.\u001b[39mmax_width, \u001b[38;5;28mself\u001b[39m\u001b[38;5;241m.\u001b[39mnewline,\n\u001b[1;32m    707\u001b[0m     max_seq_length\u001b[38;5;241m=\u001b[39m\u001b[38;5;28mself\u001b[39m\u001b[38;5;241m.\u001b[39mmax_seq_length,\n\u001b[1;32m    708\u001b[0m     singleton_pprinters\u001b[38;5;241m=\u001b[39m\u001b[38;5;28mself\u001b[39m\u001b[38;5;241m.\u001b[39msingleton_printers,\n\u001b[1;32m    709\u001b[0m     type_pprinters\u001b[38;5;241m=\u001b[39m\u001b[38;5;28mself\u001b[39m\u001b[38;5;241m.\u001b[39mtype_printers,\n\u001b[1;32m    710\u001b[0m     deferred_pprinters\u001b[38;5;241m=\u001b[39m\u001b[38;5;28mself\u001b[39m\u001b[38;5;241m.\u001b[39mdeferred_printers)\n\u001b[0;32m--> 711\u001b[0m \u001b[43mprinter\u001b[49m\u001b[38;5;241;43m.\u001b[39;49m\u001b[43mpretty\u001b[49m\u001b[43m(\u001b[49m\u001b[43mobj\u001b[49m\u001b[43m)\u001b[49m\n\u001b[1;32m    712\u001b[0m printer\u001b[38;5;241m.\u001b[39mflush()\n\u001b[1;32m    713\u001b[0m \u001b[38;5;28;01mreturn\u001b[39;00m stream\u001b[38;5;241m.\u001b[39mgetvalue()\n",
      "File \u001b[0;32m~/anaconda3/envs/lab/lib/python3.10/site-packages/IPython/lib/pretty.py:411\u001b[0m, in \u001b[0;36mRepresentationPrinter.pretty\u001b[0;34m(self, obj)\u001b[0m\n\u001b[1;32m    408\u001b[0m                         \u001b[38;5;28;01mreturn\u001b[39;00m meth(obj, \u001b[38;5;28mself\u001b[39m, cycle)\n\u001b[1;32m    409\u001b[0m                 \u001b[38;5;28;01mif\u001b[39;00m \u001b[38;5;28mcls\u001b[39m \u001b[38;5;129;01mis\u001b[39;00m \u001b[38;5;129;01mnot\u001b[39;00m \u001b[38;5;28mobject\u001b[39m \\\n\u001b[1;32m    410\u001b[0m                         \u001b[38;5;129;01mand\u001b[39;00m \u001b[38;5;28mcallable\u001b[39m(\u001b[38;5;28mcls\u001b[39m\u001b[38;5;241m.\u001b[39m\u001b[38;5;18m__dict__\u001b[39m\u001b[38;5;241m.\u001b[39mget(\u001b[38;5;124m'\u001b[39m\u001b[38;5;124m__repr__\u001b[39m\u001b[38;5;124m'\u001b[39m)):\n\u001b[0;32m--> 411\u001b[0m                     \u001b[38;5;28;01mreturn\u001b[39;00m \u001b[43m_repr_pprint\u001b[49m\u001b[43m(\u001b[49m\u001b[43mobj\u001b[49m\u001b[43m,\u001b[49m\u001b[43m \u001b[49m\u001b[38;5;28;43mself\u001b[39;49m\u001b[43m,\u001b[49m\u001b[43m \u001b[49m\u001b[43mcycle\u001b[49m\u001b[43m)\u001b[49m\n\u001b[1;32m    413\u001b[0m     \u001b[38;5;28;01mreturn\u001b[39;00m _default_pprint(obj, \u001b[38;5;28mself\u001b[39m, cycle)\n\u001b[1;32m    414\u001b[0m \u001b[38;5;28;01mfinally\u001b[39;00m:\n",
      "File \u001b[0;32m~/anaconda3/envs/lab/lib/python3.10/site-packages/IPython/lib/pretty.py:779\u001b[0m, in \u001b[0;36m_repr_pprint\u001b[0;34m(obj, p, cycle)\u001b[0m\n\u001b[1;32m    777\u001b[0m \u001b[38;5;250m\u001b[39m\u001b[38;5;124;03m\"\"\"A pprint that just redirects to the normal repr function.\"\"\"\u001b[39;00m\n\u001b[1;32m    778\u001b[0m \u001b[38;5;66;03m# Find newlines and replace them with p.break_()\u001b[39;00m\n\u001b[0;32m--> 779\u001b[0m output \u001b[38;5;241m=\u001b[39m \u001b[38;5;28;43mrepr\u001b[39;49m\u001b[43m(\u001b[49m\u001b[43mobj\u001b[49m\u001b[43m)\u001b[49m\n\u001b[1;32m    780\u001b[0m lines \u001b[38;5;241m=\u001b[39m output\u001b[38;5;241m.\u001b[39msplitlines()\n\u001b[1;32m    781\u001b[0m \u001b[38;5;28;01mwith\u001b[39;00m p\u001b[38;5;241m.\u001b[39mgroup():\n",
      "File \u001b[0;32m~/anaconda3/envs/lab/lib/python3.10/site-packages/plotnine/ggplot.py:131\u001b[0m, in \u001b[0;36mggplot.__repr__\u001b[0;34m(self)\u001b[0m\n\u001b[1;32m    125\u001b[0m msg \u001b[38;5;241m=\u001b[39m (\n\u001b[1;32m    126\u001b[0m     \u001b[38;5;124m\"\u001b[39m\u001b[38;5;124mUsing repr(plot) to draw and show the plot figure is \u001b[39m\u001b[38;5;124m\"\u001b[39m\n\u001b[1;32m    127\u001b[0m     \u001b[38;5;124m\"\u001b[39m\u001b[38;5;124mdeprecated and will be removed in a future version. \u001b[39m\u001b[38;5;124m\"\u001b[39m\n\u001b[1;32m    128\u001b[0m     \u001b[38;5;124m\"\u001b[39m\u001b[38;5;124mUse plot.show().\u001b[39m\u001b[38;5;124m\"\u001b[39m\n\u001b[1;32m    129\u001b[0m )\n\u001b[1;32m    130\u001b[0m warn(msg, category\u001b[38;5;241m=\u001b[39m\u001b[38;5;167;01mFutureWarning\u001b[39;00m, stacklevel\u001b[38;5;241m=\u001b[39m\u001b[38;5;241m2\u001b[39m)\n\u001b[0;32m--> 131\u001b[0m \u001b[38;5;28;43mself\u001b[39;49m\u001b[38;5;241;43m.\u001b[39;49m\u001b[43mshow\u001b[49m\u001b[43m(\u001b[49m\u001b[43m)\u001b[49m\n\u001b[1;32m    132\u001b[0m \u001b[38;5;28;01mreturn\u001b[39;00m \u001b[38;5;124mf\u001b[39m\u001b[38;5;124m\"\u001b[39m\u001b[38;5;124m<Figure Size: (\u001b[39m\u001b[38;5;132;01m{\u001b[39;00mW\u001b[38;5;132;01m}\u001b[39;00m\u001b[38;5;124m x \u001b[39m\u001b[38;5;132;01m{\u001b[39;00mH\u001b[38;5;132;01m}\u001b[39;00m\u001b[38;5;124m)>\u001b[39m\u001b[38;5;124m\"\u001b[39m\n",
      "File \u001b[0;32m~/anaconda3/envs/lab/lib/python3.10/site-packages/plotnine/ggplot.py:150\u001b[0m, in \u001b[0;36mggplot.show\u001b[0;34m(self)\u001b[0m\n\u001b[1;32m    143\u001b[0m \u001b[38;5;28;01mdef\u001b[39;00m \u001b[38;5;21mshow\u001b[39m(\u001b[38;5;28mself\u001b[39m):\n\u001b[1;32m    144\u001b[0m \u001b[38;5;250m    \u001b[39m\u001b[38;5;124;03m\"\"\"\u001b[39;00m\n\u001b[1;32m    145\u001b[0m \u001b[38;5;124;03m    Show plot using the matplotlib backend set by the user\u001b[39;00m\n\u001b[1;32m    146\u001b[0m \n\u001b[1;32m    147\u001b[0m \u001b[38;5;124;03m    Users should prefer this method instead of printing or repring\u001b[39;00m\n\u001b[1;32m    148\u001b[0m \u001b[38;5;124;03m    the object.\u001b[39;00m\n\u001b[1;32m    149\u001b[0m \u001b[38;5;124;03m    \"\"\"\u001b[39;00m\n\u001b[0;32m--> 150\u001b[0m     \u001b[38;5;28;43mself\u001b[39;49m\u001b[38;5;241;43m.\u001b[39;49m\u001b[43m_display\u001b[49m\u001b[43m(\u001b[49m\u001b[43m)\u001b[49m \u001b[38;5;28;01mif\u001b[39;00m is_inline_backend() \u001b[38;5;28;01melse\u001b[39;00m \u001b[38;5;28mself\u001b[39m\u001b[38;5;241m.\u001b[39mdraw(show\u001b[38;5;241m=\u001b[39m\u001b[38;5;28;01mTrue\u001b[39;00m)\n",
      "File \u001b[0;32m~/anaconda3/envs/lab/lib/python3.10/site-packages/plotnine/ggplot.py:175\u001b[0m, in \u001b[0;36mggplot._display\u001b[0;34m(self)\u001b[0m\n\u001b[1;32m    172\u001b[0m     save_format \u001b[38;5;241m=\u001b[39m \u001b[38;5;124m\"\u001b[39m\u001b[38;5;124mpng\u001b[39m\u001b[38;5;124m\"\u001b[39m\n\u001b[1;32m    174\u001b[0m buf \u001b[38;5;241m=\u001b[39m BytesIO()\n\u001b[0;32m--> 175\u001b[0m \u001b[38;5;28;43mself\u001b[39;49m\u001b[38;5;241;43m.\u001b[39;49m\u001b[43msave\u001b[49m\u001b[43m(\u001b[49m\u001b[43mbuf\u001b[49m\u001b[43m,\u001b[49m\u001b[43m \u001b[49m\u001b[38;5;28;43mformat\u001b[39;49m\u001b[38;5;241;43m=\u001b[39;49m\u001b[43msave_format\u001b[49m\u001b[43m,\u001b[49m\u001b[43m \u001b[49m\u001b[43mverbose\u001b[49m\u001b[38;5;241;43m=\u001b[39;49m\u001b[38;5;28;43;01mFalse\u001b[39;49;00m\u001b[43m)\u001b[49m\n\u001b[1;32m    176\u001b[0m display_func \u001b[38;5;241m=\u001b[39m get_display_function(\u001b[38;5;28mformat\u001b[39m)\n\u001b[1;32m    177\u001b[0m display_func(buf\u001b[38;5;241m.\u001b[39mgetvalue())\n",
      "File \u001b[0;32m~/anaconda3/envs/lab/lib/python3.10/site-packages/plotnine/ggplot.py:663\u001b[0m, in \u001b[0;36mggplot.save\u001b[0;34m(self, filename, format, path, width, height, units, dpi, limitsize, verbose, **kwargs)\u001b[0m\n\u001b[1;32m    615\u001b[0m \u001b[38;5;28;01mdef\u001b[39;00m \u001b[38;5;21msave\u001b[39m(\n\u001b[1;32m    616\u001b[0m     \u001b[38;5;28mself\u001b[39m,\n\u001b[1;32m    617\u001b[0m     filename: Optional[\u001b[38;5;28mstr\u001b[39m \u001b[38;5;241m|\u001b[39m Path \u001b[38;5;241m|\u001b[39m BytesIO] \u001b[38;5;241m=\u001b[39m \u001b[38;5;28;01mNone\u001b[39;00m,\n\u001b[0;32m   (...)\u001b[0m\n\u001b[1;32m    626\u001b[0m     \u001b[38;5;241m*\u001b[39m\u001b[38;5;241m*\u001b[39mkwargs: Any,\n\u001b[1;32m    627\u001b[0m ):\n\u001b[1;32m    628\u001b[0m \u001b[38;5;250m    \u001b[39m\u001b[38;5;124;03m\"\"\"\u001b[39;00m\n\u001b[1;32m    629\u001b[0m \u001b[38;5;124;03m    Save a ggplot object as an image file\u001b[39;00m\n\u001b[1;32m    630\u001b[0m \n\u001b[0;32m   (...)\u001b[0m\n\u001b[1;32m    661\u001b[0m \u001b[38;5;124;03m        Additional arguments to pass to matplotlib `savefig()`.\u001b[39;00m\n\u001b[1;32m    662\u001b[0m \u001b[38;5;124;03m    \"\"\"\u001b[39;00m\n\u001b[0;32m--> 663\u001b[0m     sv \u001b[38;5;241m=\u001b[39m \u001b[38;5;28;43mself\u001b[39;49m\u001b[38;5;241;43m.\u001b[39;49m\u001b[43msave_helper\u001b[49m\u001b[43m(\u001b[49m\n\u001b[1;32m    664\u001b[0m \u001b[43m        \u001b[49m\u001b[43mfilename\u001b[49m\u001b[38;5;241;43m=\u001b[39;49m\u001b[43mfilename\u001b[49m\u001b[43m,\u001b[49m\n\u001b[1;32m    665\u001b[0m \u001b[43m        \u001b[49m\u001b[38;5;28;43mformat\u001b[39;49m\u001b[38;5;241;43m=\u001b[39;49m\u001b[38;5;28;43mformat\u001b[39;49m\u001b[43m,\u001b[49m\n\u001b[1;32m    666\u001b[0m \u001b[43m        \u001b[49m\u001b[43mpath\u001b[49m\u001b[38;5;241;43m=\u001b[39;49m\u001b[43mpath\u001b[49m\u001b[43m,\u001b[49m\n\u001b[1;32m    667\u001b[0m \u001b[43m        \u001b[49m\u001b[43mwidth\u001b[49m\u001b[38;5;241;43m=\u001b[39;49m\u001b[43mwidth\u001b[49m\u001b[43m,\u001b[49m\n\u001b[1;32m    668\u001b[0m \u001b[43m        \u001b[49m\u001b[43mheight\u001b[49m\u001b[38;5;241;43m=\u001b[39;49m\u001b[43mheight\u001b[49m\u001b[43m,\u001b[49m\n\u001b[1;32m    669\u001b[0m \u001b[43m        \u001b[49m\u001b[43munits\u001b[49m\u001b[38;5;241;43m=\u001b[39;49m\u001b[43munits\u001b[49m\u001b[43m,\u001b[49m\n\u001b[1;32m    670\u001b[0m \u001b[43m        \u001b[49m\u001b[43mdpi\u001b[49m\u001b[38;5;241;43m=\u001b[39;49m\u001b[43mdpi\u001b[49m\u001b[43m,\u001b[49m\n\u001b[1;32m    671\u001b[0m \u001b[43m        \u001b[49m\u001b[43mlimitsize\u001b[49m\u001b[38;5;241;43m=\u001b[39;49m\u001b[43mlimitsize\u001b[49m\u001b[43m,\u001b[49m\n\u001b[1;32m    672\u001b[0m \u001b[43m        \u001b[49m\u001b[43mverbose\u001b[49m\u001b[38;5;241;43m=\u001b[39;49m\u001b[43mverbose\u001b[49m\u001b[43m,\u001b[49m\n\u001b[1;32m    673\u001b[0m \u001b[43m        \u001b[49m\u001b[38;5;241;43m*\u001b[39;49m\u001b[38;5;241;43m*\u001b[39;49m\u001b[43mkwargs\u001b[49m\u001b[43m,\u001b[49m\n\u001b[1;32m    674\u001b[0m \u001b[43m    \u001b[49m\u001b[43m)\u001b[49m\n\u001b[1;32m    676\u001b[0m     \u001b[38;5;28;01mwith\u001b[39;00m plot_context(\u001b[38;5;28mself\u001b[39m)\u001b[38;5;241m.\u001b[39mrc_context:\n\u001b[1;32m    677\u001b[0m         sv\u001b[38;5;241m.\u001b[39mfigure\u001b[38;5;241m.\u001b[39msavefig(\u001b[38;5;241m*\u001b[39m\u001b[38;5;241m*\u001b[39msv\u001b[38;5;241m.\u001b[39mkwargs)\n",
      "File \u001b[0;32m~/anaconda3/envs/lab/lib/python3.10/site-packages/plotnine/ggplot.py:612\u001b[0m, in \u001b[0;36mggplot.save_helper\u001b[0;34m(self, filename, format, path, width, height, units, dpi, limitsize, verbose, **kwargs)\u001b[0m\n\u001b[1;32m    609\u001b[0m \u001b[38;5;28;01mif\u001b[39;00m dpi \u001b[38;5;129;01mis\u001b[39;00m \u001b[38;5;129;01mnot\u001b[39;00m \u001b[38;5;28;01mNone\u001b[39;00m:\n\u001b[1;32m    610\u001b[0m     \u001b[38;5;28mself\u001b[39m\u001b[38;5;241m.\u001b[39mtheme \u001b[38;5;241m=\u001b[39m \u001b[38;5;28mself\u001b[39m\u001b[38;5;241m.\u001b[39mtheme \u001b[38;5;241m+\u001b[39m theme(dpi\u001b[38;5;241m=\u001b[39mdpi)\n\u001b[0;32m--> 612\u001b[0m figure \u001b[38;5;241m=\u001b[39m \u001b[38;5;28;43mself\u001b[39;49m\u001b[38;5;241;43m.\u001b[39;49m\u001b[43mdraw\u001b[49m\u001b[43m(\u001b[49m\u001b[43mshow\u001b[49m\u001b[38;5;241;43m=\u001b[39;49m\u001b[38;5;28;43;01mFalse\u001b[39;49;00m\u001b[43m)\u001b[49m\n\u001b[1;32m    613\u001b[0m \u001b[38;5;28;01mreturn\u001b[39;00m mpl_save_view(figure, fig_kwargs)\n",
      "File \u001b[0;32m~/anaconda3/envs/lab/lib/python3.10/site-packages/plotnine/ggplot.py:272\u001b[0m, in \u001b[0;36mggplot.draw\u001b[0;34m(self, show)\u001b[0m\n\u001b[1;32m    270\u001b[0m \u001b[38;5;28mself\u001b[39m \u001b[38;5;241m=\u001b[39m deepcopy(\u001b[38;5;28mself\u001b[39m)\n\u001b[1;32m    271\u001b[0m \u001b[38;5;28;01mwith\u001b[39;00m plot_context(\u001b[38;5;28mself\u001b[39m, show\u001b[38;5;241m=\u001b[39mshow):\n\u001b[0;32m--> 272\u001b[0m     \u001b[38;5;28;43mself\u001b[39;49m\u001b[38;5;241;43m.\u001b[39;49m\u001b[43m_build\u001b[49m\u001b[43m(\u001b[49m\u001b[43m)\u001b[49m\n\u001b[1;32m    274\u001b[0m     \u001b[38;5;66;03m# setup\u001b[39;00m\n\u001b[1;32m    275\u001b[0m     \u001b[38;5;28mself\u001b[39m\u001b[38;5;241m.\u001b[39mfigure, \u001b[38;5;28mself\u001b[39m\u001b[38;5;241m.\u001b[39maxs \u001b[38;5;241m=\u001b[39m \u001b[38;5;28mself\u001b[39m\u001b[38;5;241m.\u001b[39mfacet\u001b[38;5;241m.\u001b[39msetup(\u001b[38;5;28mself\u001b[39m)\n",
      "File \u001b[0;32m~/anaconda3/envs/lab/lib/python3.10/site-packages/plotnine/ggplot.py:400\u001b[0m, in \u001b[0;36mggplot._build\u001b[0;34m(self)\u001b[0m\n\u001b[1;32m    397\u001b[0m     layers\u001b[38;5;241m.\u001b[39mmap(npscales)\n\u001b[1;32m    399\u001b[0m \u001b[38;5;66;03m# Train coordinate system\u001b[39;00m\n\u001b[0;32m--> 400\u001b[0m \u001b[43mlayout\u001b[49m\u001b[38;5;241;43m.\u001b[39;49m\u001b[43msetup_panel_params\u001b[49m\u001b[43m(\u001b[49m\u001b[38;5;28;43mself\u001b[39;49m\u001b[38;5;241;43m.\u001b[39;49m\u001b[43mcoordinates\u001b[49m\u001b[43m)\u001b[49m\n\u001b[1;32m    402\u001b[0m \u001b[38;5;66;03m# fill in the defaults\u001b[39;00m\n\u001b[1;32m    403\u001b[0m layers\u001b[38;5;241m.\u001b[39muse_defaults_after_scale()\n",
      "File \u001b[0;32m~/anaconda3/envs/lab/lib/python3.10/site-packages/plotnine/facets/layout.py:198\u001b[0m, in \u001b[0;36mLayout.setup_panel_params\u001b[0;34m(self, coord)\u001b[0m\n\u001b[1;32m    196\u001b[0m \u001b[38;5;28;01mfor\u001b[39;00m i, j \u001b[38;5;129;01min\u001b[39;00m \u001b[38;5;28mself\u001b[39m\u001b[38;5;241m.\u001b[39mlayout[cols]\u001b[38;5;241m.\u001b[39mitertuples(index\u001b[38;5;241m=\u001b[39m\u001b[38;5;28;01mFalse\u001b[39;00m):\n\u001b[1;32m    197\u001b[0m     i, j \u001b[38;5;241m=\u001b[39m i \u001b[38;5;241m-\u001b[39m \u001b[38;5;241m1\u001b[39m, j \u001b[38;5;241m-\u001b[39m \u001b[38;5;241m1\u001b[39m\n\u001b[0;32m--> 198\u001b[0m     params \u001b[38;5;241m=\u001b[39m \u001b[43mcoord\u001b[49m\u001b[38;5;241;43m.\u001b[39;49m\u001b[43msetup_panel_params\u001b[49m\u001b[43m(\u001b[49m\n\u001b[1;32m    199\u001b[0m \u001b[43m        \u001b[49m\u001b[38;5;28;43mself\u001b[39;49m\u001b[38;5;241;43m.\u001b[39;49m\u001b[43mpanel_scales_x\u001b[49m\u001b[43m[\u001b[49m\u001b[43mi\u001b[49m\u001b[43m]\u001b[49m\u001b[43m,\u001b[49m\u001b[43m \u001b[49m\u001b[38;5;28;43mself\u001b[39;49m\u001b[38;5;241;43m.\u001b[39;49m\u001b[43mpanel_scales_y\u001b[49m\u001b[43m[\u001b[49m\u001b[43mj\u001b[49m\u001b[43m]\u001b[49m\n\u001b[1;32m    200\u001b[0m \u001b[43m    \u001b[49m\u001b[43m)\u001b[49m\n\u001b[1;32m    201\u001b[0m     \u001b[38;5;28mself\u001b[39m\u001b[38;5;241m.\u001b[39mpanel_params\u001b[38;5;241m.\u001b[39mappend(params)\n",
      "File \u001b[0;32m~/anaconda3/envs/lab/lib/python3.10/site-packages/plotnine/coords/coord_cartesian.py:80\u001b[0m, in \u001b[0;36mcoord_cartesian.setup_panel_params\u001b[0;34m(self, scale_x, scale_y)\u001b[0m\n\u001b[1;32m     76\u001b[0m     sv \u001b[38;5;241m=\u001b[39m scale\u001b[38;5;241m.\u001b[39mview(limits\u001b[38;5;241m=\u001b[39mcoord_limits, \u001b[38;5;28mrange\u001b[39m\u001b[38;5;241m=\u001b[39mranges\u001b[38;5;241m.\u001b[39mrange)\n\u001b[1;32m     77\u001b[0m     \u001b[38;5;28;01mreturn\u001b[39;00m sv\n\u001b[1;32m     79\u001b[0m out \u001b[38;5;241m=\u001b[39m panel_view(\n\u001b[0;32m---> 80\u001b[0m     x\u001b[38;5;241m=\u001b[39m\u001b[43mget_scale_view\u001b[49m\u001b[43m(\u001b[49m\u001b[43mscale_x\u001b[49m\u001b[43m,\u001b[49m\u001b[43m \u001b[49m\u001b[38;5;28;43mself\u001b[39;49m\u001b[38;5;241;43m.\u001b[39;49m\u001b[43mlimits\u001b[49m\u001b[38;5;241;43m.\u001b[39;49m\u001b[43mx\u001b[49m\u001b[43m)\u001b[49m,\n\u001b[1;32m     81\u001b[0m     y\u001b[38;5;241m=\u001b[39mget_scale_view(scale_y, \u001b[38;5;28mself\u001b[39m\u001b[38;5;241m.\u001b[39mlimits\u001b[38;5;241m.\u001b[39my),\n\u001b[1;32m     82\u001b[0m )\n\u001b[1;32m     83\u001b[0m \u001b[38;5;28;01mreturn\u001b[39;00m out\n",
      "File \u001b[0;32m~/anaconda3/envs/lab/lib/python3.10/site-packages/plotnine/coords/coord_cartesian.py:76\u001b[0m, in \u001b[0;36mcoord_cartesian.setup_panel_params.<locals>.get_scale_view\u001b[0;34m(scale, coord_limits)\u001b[0m\n\u001b[1;32m     72\u001b[0m expansion \u001b[38;5;241m=\u001b[39m scale\u001b[38;5;241m.\u001b[39mdefault_expansion(expand\u001b[38;5;241m=\u001b[39m\u001b[38;5;28mself\u001b[39m\u001b[38;5;241m.\u001b[39mexpand)\n\u001b[1;32m     73\u001b[0m ranges \u001b[38;5;241m=\u001b[39m scale\u001b[38;5;241m.\u001b[39mexpand_limits(\n\u001b[1;32m     74\u001b[0m     scale\u001b[38;5;241m.\u001b[39mlimits, expansion, coord_limits, identity_trans\n\u001b[1;32m     75\u001b[0m )\n\u001b[0;32m---> 76\u001b[0m sv \u001b[38;5;241m=\u001b[39m \u001b[43mscale\u001b[49m\u001b[38;5;241;43m.\u001b[39;49m\u001b[43mview\u001b[49m\u001b[43m(\u001b[49m\u001b[43mlimits\u001b[49m\u001b[38;5;241;43m=\u001b[39;49m\u001b[43mcoord_limits\u001b[49m\u001b[43m,\u001b[49m\u001b[43m \u001b[49m\u001b[38;5;28;43mrange\u001b[39;49m\u001b[38;5;241;43m=\u001b[39;49m\u001b[43mranges\u001b[49m\u001b[38;5;241;43m.\u001b[39;49m\u001b[43mrange\u001b[49m\u001b[43m)\u001b[49m\n\u001b[1;32m     77\u001b[0m \u001b[38;5;28;01mreturn\u001b[39;00m sv\n",
      "File \u001b[0;32m~/anaconda3/envs/lab/lib/python3.10/site-packages/plotnine/scales/scale_continuous.py:302\u001b[0m, in \u001b[0;36mscale_continuous.view\u001b[0;34m(self, limits, range)\u001b[0m\n\u001b[1;32m    299\u001b[0m \u001b[38;5;28;01mif\u001b[39;00m \u001b[38;5;28mrange\u001b[39m \u001b[38;5;129;01mis\u001b[39;00m \u001b[38;5;28;01mNone\u001b[39;00m:\n\u001b[1;32m    300\u001b[0m     \u001b[38;5;28mrange\u001b[39m \u001b[38;5;241m=\u001b[39m \u001b[38;5;28mself\u001b[39m\u001b[38;5;241m.\u001b[39mdimension(limits\u001b[38;5;241m=\u001b[39mlimits)\n\u001b[0;32m--> 302\u001b[0m breaks \u001b[38;5;241m=\u001b[39m \u001b[38;5;28;43mself\u001b[39;49m\u001b[38;5;241;43m.\u001b[39;49m\u001b[43mget_bounded_breaks\u001b[49m\u001b[43m(\u001b[49m\u001b[38;5;28;43mrange\u001b[39;49m\u001b[43m)\u001b[49m\n\u001b[1;32m    303\u001b[0m labels \u001b[38;5;241m=\u001b[39m \u001b[38;5;28mself\u001b[39m\u001b[38;5;241m.\u001b[39mget_labels(breaks)\n\u001b[1;32m    305\u001b[0m ubreaks \u001b[38;5;241m=\u001b[39m \u001b[38;5;28mself\u001b[39m\u001b[38;5;241m.\u001b[39mget_breaks(\u001b[38;5;28mrange\u001b[39m)\n",
      "File \u001b[0;32m~/anaconda3/envs/lab/lib/python3.10/site-packages/plotnine/scales/scale_continuous.py:403\u001b[0m, in \u001b[0;36mscale_continuous.get_bounded_breaks\u001b[0;34m(self, limits)\u001b[0m\n\u001b[1;32m    401\u001b[0m \u001b[38;5;28;01mif\u001b[39;00m limits \u001b[38;5;129;01mis\u001b[39;00m \u001b[38;5;28;01mNone\u001b[39;00m:\n\u001b[1;32m    402\u001b[0m     limits \u001b[38;5;241m=\u001b[39m \u001b[38;5;28mself\u001b[39m\u001b[38;5;241m.\u001b[39mlimits\n\u001b[0;32m--> 403\u001b[0m breaks \u001b[38;5;241m=\u001b[39m \u001b[38;5;28;43mself\u001b[39;49m\u001b[38;5;241;43m.\u001b[39;49m\u001b[43mget_breaks\u001b[49m\u001b[43m(\u001b[49m\u001b[43mlimits\u001b[49m\u001b[43m)\u001b[49m\n\u001b[1;32m    404\u001b[0m strict_breaks \u001b[38;5;241m=\u001b[39m [b \u001b[38;5;28;01mfor\u001b[39;00m b \u001b[38;5;129;01min\u001b[39;00m breaks \u001b[38;5;28;01mif\u001b[39;00m limits[\u001b[38;5;241m0\u001b[39m] \u001b[38;5;241m<\u001b[39m\u001b[38;5;241m=\u001b[39m b \u001b[38;5;241m<\u001b[39m\u001b[38;5;241m=\u001b[39m limits[\u001b[38;5;241m1\u001b[39m]]\n\u001b[1;32m    405\u001b[0m \u001b[38;5;28;01mreturn\u001b[39;00m strict_breaks\n",
      "File \u001b[0;32m~/anaconda3/envs/lab/lib/python3.10/site-packages/plotnine/scales/scale_continuous.py:383\u001b[0m, in \u001b[0;36mscale_continuous.get_breaks\u001b[0;34m(self, limits)\u001b[0m\n\u001b[1;32m    379\u001b[0m     breaks \u001b[38;5;241m=\u001b[39m []\n\u001b[1;32m    380\u001b[0m \u001b[38;5;28;01melif\u001b[39;00m \u001b[38;5;28mself\u001b[39m\u001b[38;5;241m.\u001b[39mbreaks \u001b[38;5;129;01mis\u001b[39;00m \u001b[38;5;28;01mTrue\u001b[39;00m:\n\u001b[1;32m    381\u001b[0m     \u001b[38;5;66;03m# TODO: Fix this type mismatch in mizani with\u001b[39;00m\n\u001b[1;32m    382\u001b[0m     \u001b[38;5;66;03m# a typevar so that type-in = type-out\u001b[39;00m\n\u001b[0;32m--> 383\u001b[0m     _tlimits \u001b[38;5;241m=\u001b[39m \u001b[38;5;28;43mself\u001b[39;49m\u001b[38;5;241;43m.\u001b[39;49m\u001b[43mtrans\u001b[49m\u001b[38;5;241;43m.\u001b[39;49m\u001b[43mbreaks\u001b[49m\u001b[43m(\u001b[49m\u001b[43m_limits\u001b[49m\u001b[43m)\u001b[49m\n\u001b[1;32m    384\u001b[0m     breaks: ScaleContinuousBreaks \u001b[38;5;241m=\u001b[39m _tlimits  \u001b[38;5;66;03m# pyright: ignore\u001b[39;00m\n\u001b[1;32m    385\u001b[0m \u001b[38;5;28;01melif\u001b[39;00m zero_range(_limits):\n",
      "File \u001b[0;32m~/anaconda3/envs/lab/lib/python3.10/site-packages/mizani/transforms.py:224\u001b[0m, in \u001b[0;36mtrans.breaks\u001b[0;34m(self, limits)\u001b[0m\n\u001b[1;32m    218\u001b[0m \u001b[38;5;66;03m# clip the breaks to the domain,\u001b[39;00m\n\u001b[1;32m    219\u001b[0m \u001b[38;5;66;03m# e.g. probabilities will be in [0, 1] domain\u001b[39;00m\n\u001b[1;32m    220\u001b[0m limits \u001b[38;5;241m=\u001b[39m (\n\u001b[1;32m    221\u001b[0m     \u001b[38;5;28mmax\u001b[39m(\u001b[38;5;28mself\u001b[39m\u001b[38;5;241m.\u001b[39mdomain[\u001b[38;5;241m0\u001b[39m], limits[\u001b[38;5;241m0\u001b[39m]),\n\u001b[1;32m    222\u001b[0m     \u001b[38;5;28mmin\u001b[39m(\u001b[38;5;28mself\u001b[39m\u001b[38;5;241m.\u001b[39mdomain[\u001b[38;5;241m1\u001b[39m], limits[\u001b[38;5;241m1\u001b[39m]),\n\u001b[1;32m    223\u001b[0m )\n\u001b[0;32m--> 224\u001b[0m breaks \u001b[38;5;241m=\u001b[39m np\u001b[38;5;241m.\u001b[39masarray(\u001b[38;5;28;43mself\u001b[39;49m\u001b[38;5;241;43m.\u001b[39;49m\u001b[43mbreaks_\u001b[49m\u001b[43m(\u001b[49m\u001b[43mlimits\u001b[49m\u001b[43m)\u001b[49m)\n\u001b[1;32m    226\u001b[0m \u001b[38;5;66;03m# Some methods (e.g. breaks_extended) that\u001b[39;00m\n\u001b[1;32m    227\u001b[0m \u001b[38;5;66;03m# calculate breaks take the limits as guide posts and\u001b[39;00m\n\u001b[1;32m    228\u001b[0m \u001b[38;5;66;03m# not hard limits.\u001b[39;00m\n\u001b[1;32m    229\u001b[0m breaks \u001b[38;5;241m=\u001b[39m breaks\u001b[38;5;241m.\u001b[39mcompress(\n\u001b[1;32m    230\u001b[0m     (breaks \u001b[38;5;241m>\u001b[39m\u001b[38;5;241m=\u001b[39m \u001b[38;5;28mself\u001b[39m\u001b[38;5;241m.\u001b[39mdomain[\u001b[38;5;241m0\u001b[39m]) \u001b[38;5;241m&\u001b[39m (breaks \u001b[38;5;241m<\u001b[39m\u001b[38;5;241m=\u001b[39m \u001b[38;5;28mself\u001b[39m\u001b[38;5;241m.\u001b[39mdomain[\u001b[38;5;241m1\u001b[39m])\n\u001b[1;32m    231\u001b[0m )\n",
      "File \u001b[0;32m~/anaconda3/envs/lab/lib/python3.10/site-packages/mizani/breaks.py:481\u001b[0m, in \u001b[0;36mbreaks_date.__call__\u001b[0;34m(self, limits)\u001b[0m\n\u001b[1;32m    477\u001b[0m     \u001b[38;5;28;01mreturn\u001b[39;00m calculate_date_breaks_byunits(\n\u001b[1;32m    478\u001b[0m         limits, \u001b[38;5;28mself\u001b[39m\u001b[38;5;241m.\u001b[39munits, \u001b[38;5;28mself\u001b[39m\u001b[38;5;241m.\u001b[39mwidth\n\u001b[1;32m    479\u001b[0m     )\n\u001b[1;32m    480\u001b[0m \u001b[38;5;28;01melse\u001b[39;00m:\n\u001b[0;32m--> 481\u001b[0m     \u001b[38;5;28;01mreturn\u001b[39;00m \u001b[43mcalculate_date_breaks_auto\u001b[49m\u001b[43m(\u001b[49m\u001b[43mlimits\u001b[49m\u001b[43m,\u001b[49m\u001b[43m \u001b[49m\u001b[38;5;28;43mself\u001b[39;49m\u001b[38;5;241;43m.\u001b[39;49m\u001b[43mn\u001b[49m\u001b[43m)\u001b[49m\n",
      "File \u001b[0;32m~/anaconda3/envs/lab/lib/python3.10/site-packages/mizani/_core/dates.py:280\u001b[0m, in \u001b[0;36mcalculate_date_breaks_auto\u001b[0;34m(limits, n)\u001b[0m\n\u001b[1;32m    276\u001b[0m \u001b[38;5;28;01mdef\u001b[39;00m \u001b[38;5;21mcalculate_date_breaks_auto\u001b[39m(limits, n: \u001b[38;5;28mint\u001b[39m \u001b[38;5;241m=\u001b[39m \u001b[38;5;241m5\u001b[39m) \u001b[38;5;241m-\u001b[39m\u001b[38;5;241m>\u001b[39m Sequence[datetime]:\n\u001b[1;32m    277\u001b[0m \u001b[38;5;250m    \u001b[39m\u001b[38;5;124;03m\"\"\"\u001b[39;00m\n\u001b[1;32m    278\u001b[0m \u001b[38;5;124;03m    Calcuate date breaks using appropriate units\u001b[39;00m\n\u001b[1;32m    279\u001b[0m \u001b[38;5;124;03m    \"\"\"\u001b[39;00m\n\u001b[0;32m--> 280\u001b[0m     info \u001b[38;5;241m=\u001b[39m \u001b[43mcalculate_date_breaks_info\u001b[49m\u001b[43m(\u001b[49m\u001b[43mlimits\u001b[49m\u001b[43m,\u001b[49m\u001b[43m \u001b[49m\u001b[43mn\u001b[49m\u001b[38;5;241;43m=\u001b[39;49m\u001b[43mn\u001b[49m\u001b[43m)\u001b[49m\n\u001b[1;32m    281\u001b[0m     lookup \u001b[38;5;241m=\u001b[39m {\n\u001b[1;32m    282\u001b[0m         DF\u001b[38;5;241m.\u001b[39mYEARLY: yearly_breaks,\n\u001b[1;32m    283\u001b[0m         DF\u001b[38;5;241m.\u001b[39mMONTHLY: monthly_breaks,\n\u001b[0;32m   (...)\u001b[0m\n\u001b[1;32m    288\u001b[0m         DF\u001b[38;5;241m.\u001b[39mMICROSECONDLY: microsecondly_breaks,\n\u001b[1;32m    289\u001b[0m     }\n\u001b[1;32m    290\u001b[0m     \u001b[38;5;28;01mreturn\u001b[39;00m lookup[info\u001b[38;5;241m.\u001b[39mfrequency](info)\n",
      "File \u001b[0;32m~/anaconda3/envs/lab/lib/python3.10/site-packages/mizani/_core/dates.py:232\u001b[0m, in \u001b[0;36mcalculate_date_breaks_info\u001b[0;34m(limits, n)\u001b[0m\n\u001b[1;32m    225\u001b[0m \u001b[38;5;66;03m# Widen the duration at each granularity\u001b[39;00m\n\u001b[1;32m    226\u001b[0m itv \u001b[38;5;241m=\u001b[39m Interval(\u001b[38;5;241m*\u001b[39mlimits)\n\u001b[1;32m    227\u001b[0m unit_durations \u001b[38;5;241m=\u001b[39m (\n\u001b[1;32m    228\u001b[0m     itv\u001b[38;5;241m.\u001b[39my_wide,\n\u001b[1;32m    229\u001b[0m     itv\u001b[38;5;241m.\u001b[39mM_wide,\n\u001b[1;32m    230\u001b[0m     itv\u001b[38;5;241m.\u001b[39md_wide,\n\u001b[1;32m    231\u001b[0m     itv\u001b[38;5;241m.\u001b[39mh_wide,\n\u001b[0;32m--> 232\u001b[0m     \u001b[43mitv\u001b[49m\u001b[38;5;241;43m.\u001b[39;49m\u001b[43mm_wide\u001b[49m,\n\u001b[1;32m    233\u001b[0m     itv\u001b[38;5;241m.\u001b[39ms,\n\u001b[1;32m    234\u001b[0m     itv\u001b[38;5;241m.\u001b[39mu,\n\u001b[1;32m    235\u001b[0m )\n\u001b[1;32m    236\u001b[0m \u001b[38;5;66;03m# Search frequencies from longest (yearly) to the smallest\u001b[39;00m\n\u001b[1;32m    237\u001b[0m \u001b[38;5;66;03m# for one that would a good width between the breaks\u001b[39;00m\n\u001b[1;32m    238\u001b[0m \n\u001b[1;32m    239\u001b[0m \u001b[38;5;66;03m# Defaults\u001b[39;00m\n\u001b[1;32m    240\u001b[0m freq \u001b[38;5;241m=\u001b[39m DF\u001b[38;5;241m.\u001b[39mYEARLY  \u001b[38;5;66;03m# makes pyright happy\u001b[39;00m\n",
      "File \u001b[0;32m~/anaconda3/envs/lab/lib/python3.10/site-packages/mizani/_core/date_utils.py:131\u001b[0m, in \u001b[0;36mInterval.m_wide\u001b[0;34m(self)\u001b[0m\n\u001b[1;32m    126\u001b[0m \u001b[38;5;129m@property\u001b[39m\n\u001b[1;32m    127\u001b[0m \u001b[38;5;28;01mdef\u001b[39;00m \u001b[38;5;21mm_wide\u001b[39m(\u001b[38;5;28mself\u001b[39m) \u001b[38;5;241m-\u001b[39m\u001b[38;5;241m>\u001b[39m \u001b[38;5;28mint\u001b[39m:\n\u001b[1;32m    128\u001b[0m \u001b[38;5;250m    \u001b[39m\u001b[38;5;124;03m\"\"\"\u001b[39;00m\n\u001b[1;32m    129\u001b[0m \u001b[38;5;124;03m    Minutes (enclosing the original)\u001b[39;00m\n\u001b[1;32m    130\u001b[0m \u001b[38;5;124;03m    \"\"\"\u001b[39;00m\n\u001b[0;32m--> 131\u001b[0m     \u001b[38;5;28;01mreturn\u001b[39;00m \u001b[43mInterval\u001b[49m\u001b[43m(\u001b[49m\u001b[38;5;241;43m*\u001b[39;49m\u001b[38;5;28;43mself\u001b[39;49m\u001b[38;5;241;43m.\u001b[39;49m\u001b[43mlimits_minute\u001b[49m\u001b[43m(\u001b[49m\u001b[43m)\u001b[49m\u001b[43m)\u001b[49m\u001b[38;5;241m.\u001b[39mm\n",
      "File \u001b[0;32m<string>:5\u001b[0m, in \u001b[0;36m__init__\u001b[0;34m(self, start, end)\u001b[0m\n",
      "File \u001b[0;32m~/anaconda3/envs/lab/lib/python3.10/site-packages/mizani/_core/date_utils.py:46\u001b[0m, in \u001b[0;36mInterval.__post_init__\u001b[0;34m(self)\u001b[0m\n\u001b[1;32m     43\u001b[0m \u001b[38;5;28;01mif\u001b[39;00m \u001b[38;5;28misinstance\u001b[39m(\u001b[38;5;28mself\u001b[39m\u001b[38;5;241m.\u001b[39mend, date):\n\u001b[1;32m     44\u001b[0m     \u001b[38;5;28mself\u001b[39m\u001b[38;5;241m.\u001b[39mend \u001b[38;5;241m=\u001b[39m datetime\u001b[38;5;241m.\u001b[39mfromisoformat(\u001b[38;5;28mself\u001b[39m\u001b[38;5;241m.\u001b[39mend\u001b[38;5;241m.\u001b[39misoformat())\n\u001b[0;32m---> 46\u001b[0m \u001b[38;5;28mself\u001b[39m\u001b[38;5;241m.\u001b[39m_delta \u001b[38;5;241m=\u001b[39m \u001b[43mrelativedelta\u001b[49m\u001b[43m(\u001b[49m\u001b[38;5;28;43mself\u001b[39;49m\u001b[38;5;241;43m.\u001b[39;49m\u001b[43mend\u001b[49m\u001b[43m,\u001b[49m\u001b[43m \u001b[49m\u001b[38;5;28;43mself\u001b[39;49m\u001b[38;5;241;43m.\u001b[39;49m\u001b[43mstart\u001b[49m\u001b[43m)\u001b[49m\n\u001b[1;32m     47\u001b[0m \u001b[38;5;28mself\u001b[39m\u001b[38;5;241m.\u001b[39m_tdelta \u001b[38;5;241m=\u001b[39m \u001b[38;5;28mself\u001b[39m\u001b[38;5;241m.\u001b[39mend \u001b[38;5;241m-\u001b[39m \u001b[38;5;28mself\u001b[39m\u001b[38;5;241m.\u001b[39mstart\n",
      "File \u001b[0;32m~/anaconda3/envs/lab/lib/python3.10/site-packages/dateutil/relativedelta.py:154\u001b[0m, in \u001b[0;36mrelativedelta.__init__\u001b[0;34m(self, dt1, dt2, years, months, days, leapdays, weeks, hours, minutes, seconds, microseconds, year, month, day, weekday, yearday, nlyearday, hour, minute, second, microsecond)\u001b[0m\n\u001b[1;32m    151\u001b[0m dtm \u001b[38;5;241m=\u001b[39m \u001b[38;5;28mself\u001b[39m\u001b[38;5;241m.\u001b[39m\u001b[38;5;21m__radd__\u001b[39m(dt2)\n\u001b[1;32m    153\u001b[0m \u001b[38;5;66;03m# If we've overshot our target, make an adjustment\u001b[39;00m\n\u001b[0;32m--> 154\u001b[0m \u001b[38;5;28;01mif\u001b[39;00m \u001b[43mdt1\u001b[49m\u001b[43m \u001b[49m\u001b[38;5;241;43m<\u001b[39;49m\u001b[43m \u001b[49m\u001b[43mdt2\u001b[49m:\n\u001b[1;32m    155\u001b[0m     compare \u001b[38;5;241m=\u001b[39m operator\u001b[38;5;241m.\u001b[39mgt\n\u001b[1;32m    156\u001b[0m     increment \u001b[38;5;241m=\u001b[39m \u001b[38;5;241m1\u001b[39m\n",
      "\u001b[0;31mTypeError\u001b[0m: can't compare offset-naive and offset-aware datetimes"
     ]
    }
   ],
   "source": [
    "# plotnine to plot (using grammar of graphics like ggplot2)\n",
    "(\n",
    "    gg.ggplot(plot_df, gg.aes(x='Registration_Time', fill='org'))\n",
    "    + gg.geom_histogram(binwidth=4/24, position='stack', color='black', show_legend=False)\n",
    "    + gg.facet_wrap('org')\n",
    "    + gg.theme_bw()\n",
    "    + gg.theme(figure_size=(8,4))\n",
    "    + gg.theme(axis_text_x=gg.element_text(angle=30, hjust=1))\n",
    "    + gg.xlab(\"Time\")\n",
    "    + gg.ylab(\"Registrations\") \n",
    "    + gg.ggtitle(\"Registrations for R workshop in first 48 hours\")\n",
    ")"
   ]
  },
  {
   "cell_type": "code",
   "execution_count": null,
   "id": "0de21c90-8473-4d56-9f35-d70e8cae5379",
   "metadata": {},
   "outputs": [
    {
     "ename": "TypeError",
     "evalue": "can't compare offset-naive and offset-aware datetimes",
     "output_type": "error",
     "traceback": [
      "\u001b[0;31m---------------------------------------------------------------------------\u001b[0m",
      "\u001b[0;31mTypeError\u001b[0m                                 Traceback (most recent call last)",
      "File \u001b[0;32m~/anaconda3/envs/lab/lib/python3.10/site-packages/IPython/core/formatters.py:925\u001b[0m, in \u001b[0;36mIPythonDisplayFormatter.__call__\u001b[0;34m(self, obj)\u001b[0m\n\u001b[1;32m    923\u001b[0m method \u001b[38;5;241m=\u001b[39m get_real_method(obj, \u001b[38;5;28mself\u001b[39m\u001b[38;5;241m.\u001b[39mprint_method)\n\u001b[1;32m    924\u001b[0m \u001b[38;5;28;01mif\u001b[39;00m method \u001b[38;5;129;01mis\u001b[39;00m \u001b[38;5;129;01mnot\u001b[39;00m \u001b[38;5;28;01mNone\u001b[39;00m:\n\u001b[0;32m--> 925\u001b[0m     \u001b[43mmethod\u001b[49m\u001b[43m(\u001b[49m\u001b[43m)\u001b[49m\n\u001b[1;32m    926\u001b[0m     \u001b[38;5;28;01mreturn\u001b[39;00m \u001b[38;5;28;01mTrue\u001b[39;00m\n",
      "File \u001b[0;32m~/anaconda3/envs/lab/lib/python3.10/site-packages/plotnine/ggplot.py:141\u001b[0m, in \u001b[0;36mggplot._ipython_display_\u001b[0;34m(self)\u001b[0m\n\u001b[1;32m    134\u001b[0m \u001b[38;5;28;01mdef\u001b[39;00m \u001b[38;5;21m_ipython_display_\u001b[39m(\u001b[38;5;28mself\u001b[39m):\n\u001b[1;32m    135\u001b[0m \u001b[38;5;250m    \u001b[39m\u001b[38;5;124;03m\"\"\"\u001b[39;00m\n\u001b[1;32m    136\u001b[0m \u001b[38;5;124;03m    Display plot in the output of the cell\u001b[39;00m\n\u001b[1;32m    137\u001b[0m \n\u001b[1;32m    138\u001b[0m \u001b[38;5;124;03m    This method will always be called when a ggplot object is the\u001b[39;00m\n\u001b[1;32m    139\u001b[0m \u001b[38;5;124;03m    last in the cell.\u001b[39;00m\n\u001b[1;32m    140\u001b[0m \u001b[38;5;124;03m    \"\"\"\u001b[39;00m\n\u001b[0;32m--> 141\u001b[0m     \u001b[38;5;28;43mself\u001b[39;49m\u001b[38;5;241;43m.\u001b[39;49m\u001b[43m_display\u001b[49m\u001b[43m(\u001b[49m\u001b[43m)\u001b[49m\n",
      "File \u001b[0;32m~/anaconda3/envs/lab/lib/python3.10/site-packages/plotnine/ggplot.py:175\u001b[0m, in \u001b[0;36mggplot._display\u001b[0;34m(self)\u001b[0m\n\u001b[1;32m    172\u001b[0m     save_format \u001b[38;5;241m=\u001b[39m \u001b[38;5;124m\"\u001b[39m\u001b[38;5;124mpng\u001b[39m\u001b[38;5;124m\"\u001b[39m\n\u001b[1;32m    174\u001b[0m buf \u001b[38;5;241m=\u001b[39m BytesIO()\n\u001b[0;32m--> 175\u001b[0m \u001b[38;5;28;43mself\u001b[39;49m\u001b[38;5;241;43m.\u001b[39;49m\u001b[43msave\u001b[49m\u001b[43m(\u001b[49m\u001b[43mbuf\u001b[49m\u001b[43m,\u001b[49m\u001b[43m \u001b[49m\u001b[38;5;28;43mformat\u001b[39;49m\u001b[38;5;241;43m=\u001b[39;49m\u001b[43msave_format\u001b[49m\u001b[43m,\u001b[49m\u001b[43m \u001b[49m\u001b[43mverbose\u001b[49m\u001b[38;5;241;43m=\u001b[39;49m\u001b[38;5;28;43;01mFalse\u001b[39;49;00m\u001b[43m)\u001b[49m\n\u001b[1;32m    176\u001b[0m display_func \u001b[38;5;241m=\u001b[39m get_display_function(\u001b[38;5;28mformat\u001b[39m)\n\u001b[1;32m    177\u001b[0m display_func(buf\u001b[38;5;241m.\u001b[39mgetvalue())\n",
      "File \u001b[0;32m~/anaconda3/envs/lab/lib/python3.10/site-packages/plotnine/ggplot.py:663\u001b[0m, in \u001b[0;36mggplot.save\u001b[0;34m(self, filename, format, path, width, height, units, dpi, limitsize, verbose, **kwargs)\u001b[0m\n\u001b[1;32m    615\u001b[0m \u001b[38;5;28;01mdef\u001b[39;00m \u001b[38;5;21msave\u001b[39m(\n\u001b[1;32m    616\u001b[0m     \u001b[38;5;28mself\u001b[39m,\n\u001b[1;32m    617\u001b[0m     filename: Optional[\u001b[38;5;28mstr\u001b[39m \u001b[38;5;241m|\u001b[39m Path \u001b[38;5;241m|\u001b[39m BytesIO] \u001b[38;5;241m=\u001b[39m \u001b[38;5;28;01mNone\u001b[39;00m,\n\u001b[0;32m   (...)\u001b[0m\n\u001b[1;32m    626\u001b[0m     \u001b[38;5;241m*\u001b[39m\u001b[38;5;241m*\u001b[39mkwargs: Any,\n\u001b[1;32m    627\u001b[0m ):\n\u001b[1;32m    628\u001b[0m \u001b[38;5;250m    \u001b[39m\u001b[38;5;124;03m\"\"\"\u001b[39;00m\n\u001b[1;32m    629\u001b[0m \u001b[38;5;124;03m    Save a ggplot object as an image file\u001b[39;00m\n\u001b[1;32m    630\u001b[0m \n\u001b[0;32m   (...)\u001b[0m\n\u001b[1;32m    661\u001b[0m \u001b[38;5;124;03m        Additional arguments to pass to matplotlib `savefig()`.\u001b[39;00m\n\u001b[1;32m    662\u001b[0m \u001b[38;5;124;03m    \"\"\"\u001b[39;00m\n\u001b[0;32m--> 663\u001b[0m     sv \u001b[38;5;241m=\u001b[39m \u001b[38;5;28;43mself\u001b[39;49m\u001b[38;5;241;43m.\u001b[39;49m\u001b[43msave_helper\u001b[49m\u001b[43m(\u001b[49m\n\u001b[1;32m    664\u001b[0m \u001b[43m        \u001b[49m\u001b[43mfilename\u001b[49m\u001b[38;5;241;43m=\u001b[39;49m\u001b[43mfilename\u001b[49m\u001b[43m,\u001b[49m\n\u001b[1;32m    665\u001b[0m \u001b[43m        \u001b[49m\u001b[38;5;28;43mformat\u001b[39;49m\u001b[38;5;241;43m=\u001b[39;49m\u001b[38;5;28;43mformat\u001b[39;49m\u001b[43m,\u001b[49m\n\u001b[1;32m    666\u001b[0m \u001b[43m        \u001b[49m\u001b[43mpath\u001b[49m\u001b[38;5;241;43m=\u001b[39;49m\u001b[43mpath\u001b[49m\u001b[43m,\u001b[49m\n\u001b[1;32m    667\u001b[0m \u001b[43m        \u001b[49m\u001b[43mwidth\u001b[49m\u001b[38;5;241;43m=\u001b[39;49m\u001b[43mwidth\u001b[49m\u001b[43m,\u001b[49m\n\u001b[1;32m    668\u001b[0m \u001b[43m        \u001b[49m\u001b[43mheight\u001b[49m\u001b[38;5;241;43m=\u001b[39;49m\u001b[43mheight\u001b[49m\u001b[43m,\u001b[49m\n\u001b[1;32m    669\u001b[0m \u001b[43m        \u001b[49m\u001b[43munits\u001b[49m\u001b[38;5;241;43m=\u001b[39;49m\u001b[43munits\u001b[49m\u001b[43m,\u001b[49m\n\u001b[1;32m    670\u001b[0m \u001b[43m        \u001b[49m\u001b[43mdpi\u001b[49m\u001b[38;5;241;43m=\u001b[39;49m\u001b[43mdpi\u001b[49m\u001b[43m,\u001b[49m\n\u001b[1;32m    671\u001b[0m \u001b[43m        \u001b[49m\u001b[43mlimitsize\u001b[49m\u001b[38;5;241;43m=\u001b[39;49m\u001b[43mlimitsize\u001b[49m\u001b[43m,\u001b[49m\n\u001b[1;32m    672\u001b[0m \u001b[43m        \u001b[49m\u001b[43mverbose\u001b[49m\u001b[38;5;241;43m=\u001b[39;49m\u001b[43mverbose\u001b[49m\u001b[43m,\u001b[49m\n\u001b[1;32m    673\u001b[0m \u001b[43m        \u001b[49m\u001b[38;5;241;43m*\u001b[39;49m\u001b[38;5;241;43m*\u001b[39;49m\u001b[43mkwargs\u001b[49m\u001b[43m,\u001b[49m\n\u001b[1;32m    674\u001b[0m \u001b[43m    \u001b[49m\u001b[43m)\u001b[49m\n\u001b[1;32m    676\u001b[0m     \u001b[38;5;28;01mwith\u001b[39;00m plot_context(\u001b[38;5;28mself\u001b[39m)\u001b[38;5;241m.\u001b[39mrc_context:\n\u001b[1;32m    677\u001b[0m         sv\u001b[38;5;241m.\u001b[39mfigure\u001b[38;5;241m.\u001b[39msavefig(\u001b[38;5;241m*\u001b[39m\u001b[38;5;241m*\u001b[39msv\u001b[38;5;241m.\u001b[39mkwargs)\n",
      "File \u001b[0;32m~/anaconda3/envs/lab/lib/python3.10/site-packages/plotnine/ggplot.py:612\u001b[0m, in \u001b[0;36mggplot.save_helper\u001b[0;34m(self, filename, format, path, width, height, units, dpi, limitsize, verbose, **kwargs)\u001b[0m\n\u001b[1;32m    609\u001b[0m \u001b[38;5;28;01mif\u001b[39;00m dpi \u001b[38;5;129;01mis\u001b[39;00m \u001b[38;5;129;01mnot\u001b[39;00m \u001b[38;5;28;01mNone\u001b[39;00m:\n\u001b[1;32m    610\u001b[0m     \u001b[38;5;28mself\u001b[39m\u001b[38;5;241m.\u001b[39mtheme \u001b[38;5;241m=\u001b[39m \u001b[38;5;28mself\u001b[39m\u001b[38;5;241m.\u001b[39mtheme \u001b[38;5;241m+\u001b[39m theme(dpi\u001b[38;5;241m=\u001b[39mdpi)\n\u001b[0;32m--> 612\u001b[0m figure \u001b[38;5;241m=\u001b[39m \u001b[38;5;28;43mself\u001b[39;49m\u001b[38;5;241;43m.\u001b[39;49m\u001b[43mdraw\u001b[49m\u001b[43m(\u001b[49m\u001b[43mshow\u001b[49m\u001b[38;5;241;43m=\u001b[39;49m\u001b[38;5;28;43;01mFalse\u001b[39;49;00m\u001b[43m)\u001b[49m\n\u001b[1;32m    613\u001b[0m \u001b[38;5;28;01mreturn\u001b[39;00m mpl_save_view(figure, fig_kwargs)\n",
      "File \u001b[0;32m~/anaconda3/envs/lab/lib/python3.10/site-packages/plotnine/ggplot.py:272\u001b[0m, in \u001b[0;36mggplot.draw\u001b[0;34m(self, show)\u001b[0m\n\u001b[1;32m    270\u001b[0m \u001b[38;5;28mself\u001b[39m \u001b[38;5;241m=\u001b[39m deepcopy(\u001b[38;5;28mself\u001b[39m)\n\u001b[1;32m    271\u001b[0m \u001b[38;5;28;01mwith\u001b[39;00m plot_context(\u001b[38;5;28mself\u001b[39m, show\u001b[38;5;241m=\u001b[39mshow):\n\u001b[0;32m--> 272\u001b[0m     \u001b[38;5;28;43mself\u001b[39;49m\u001b[38;5;241;43m.\u001b[39;49m\u001b[43m_build\u001b[49m\u001b[43m(\u001b[49m\u001b[43m)\u001b[49m\n\u001b[1;32m    274\u001b[0m     \u001b[38;5;66;03m# setup\u001b[39;00m\n\u001b[1;32m    275\u001b[0m     \u001b[38;5;28mself\u001b[39m\u001b[38;5;241m.\u001b[39mfigure, \u001b[38;5;28mself\u001b[39m\u001b[38;5;241m.\u001b[39maxs \u001b[38;5;241m=\u001b[39m \u001b[38;5;28mself\u001b[39m\u001b[38;5;241m.\u001b[39mfacet\u001b[38;5;241m.\u001b[39msetup(\u001b[38;5;28mself\u001b[39m)\n",
      "File \u001b[0;32m~/anaconda3/envs/lab/lib/python3.10/site-packages/plotnine/ggplot.py:400\u001b[0m, in \u001b[0;36mggplot._build\u001b[0;34m(self)\u001b[0m\n\u001b[1;32m    397\u001b[0m     layers\u001b[38;5;241m.\u001b[39mmap(npscales)\n\u001b[1;32m    399\u001b[0m \u001b[38;5;66;03m# Train coordinate system\u001b[39;00m\n\u001b[0;32m--> 400\u001b[0m \u001b[43mlayout\u001b[49m\u001b[38;5;241;43m.\u001b[39;49m\u001b[43msetup_panel_params\u001b[49m\u001b[43m(\u001b[49m\u001b[38;5;28;43mself\u001b[39;49m\u001b[38;5;241;43m.\u001b[39;49m\u001b[43mcoordinates\u001b[49m\u001b[43m)\u001b[49m\n\u001b[1;32m    402\u001b[0m \u001b[38;5;66;03m# fill in the defaults\u001b[39;00m\n\u001b[1;32m    403\u001b[0m layers\u001b[38;5;241m.\u001b[39muse_defaults_after_scale()\n",
      "File \u001b[0;32m~/anaconda3/envs/lab/lib/python3.10/site-packages/plotnine/facets/layout.py:198\u001b[0m, in \u001b[0;36mLayout.setup_panel_params\u001b[0;34m(self, coord)\u001b[0m\n\u001b[1;32m    196\u001b[0m \u001b[38;5;28;01mfor\u001b[39;00m i, j \u001b[38;5;129;01min\u001b[39;00m \u001b[38;5;28mself\u001b[39m\u001b[38;5;241m.\u001b[39mlayout[cols]\u001b[38;5;241m.\u001b[39mitertuples(index\u001b[38;5;241m=\u001b[39m\u001b[38;5;28;01mFalse\u001b[39;00m):\n\u001b[1;32m    197\u001b[0m     i, j \u001b[38;5;241m=\u001b[39m i \u001b[38;5;241m-\u001b[39m \u001b[38;5;241m1\u001b[39m, j \u001b[38;5;241m-\u001b[39m \u001b[38;5;241m1\u001b[39m\n\u001b[0;32m--> 198\u001b[0m     params \u001b[38;5;241m=\u001b[39m \u001b[43mcoord\u001b[49m\u001b[38;5;241;43m.\u001b[39;49m\u001b[43msetup_panel_params\u001b[49m\u001b[43m(\u001b[49m\n\u001b[1;32m    199\u001b[0m \u001b[43m        \u001b[49m\u001b[38;5;28;43mself\u001b[39;49m\u001b[38;5;241;43m.\u001b[39;49m\u001b[43mpanel_scales_x\u001b[49m\u001b[43m[\u001b[49m\u001b[43mi\u001b[49m\u001b[43m]\u001b[49m\u001b[43m,\u001b[49m\u001b[43m \u001b[49m\u001b[38;5;28;43mself\u001b[39;49m\u001b[38;5;241;43m.\u001b[39;49m\u001b[43mpanel_scales_y\u001b[49m\u001b[43m[\u001b[49m\u001b[43mj\u001b[49m\u001b[43m]\u001b[49m\n\u001b[1;32m    200\u001b[0m \u001b[43m    \u001b[49m\u001b[43m)\u001b[49m\n\u001b[1;32m    201\u001b[0m     \u001b[38;5;28mself\u001b[39m\u001b[38;5;241m.\u001b[39mpanel_params\u001b[38;5;241m.\u001b[39mappend(params)\n",
      "File \u001b[0;32m~/anaconda3/envs/lab/lib/python3.10/site-packages/plotnine/coords/coord_cartesian.py:80\u001b[0m, in \u001b[0;36mcoord_cartesian.setup_panel_params\u001b[0;34m(self, scale_x, scale_y)\u001b[0m\n\u001b[1;32m     76\u001b[0m     sv \u001b[38;5;241m=\u001b[39m scale\u001b[38;5;241m.\u001b[39mview(limits\u001b[38;5;241m=\u001b[39mcoord_limits, \u001b[38;5;28mrange\u001b[39m\u001b[38;5;241m=\u001b[39mranges\u001b[38;5;241m.\u001b[39mrange)\n\u001b[1;32m     77\u001b[0m     \u001b[38;5;28;01mreturn\u001b[39;00m sv\n\u001b[1;32m     79\u001b[0m out \u001b[38;5;241m=\u001b[39m panel_view(\n\u001b[0;32m---> 80\u001b[0m     x\u001b[38;5;241m=\u001b[39m\u001b[43mget_scale_view\u001b[49m\u001b[43m(\u001b[49m\u001b[43mscale_x\u001b[49m\u001b[43m,\u001b[49m\u001b[43m \u001b[49m\u001b[38;5;28;43mself\u001b[39;49m\u001b[38;5;241;43m.\u001b[39;49m\u001b[43mlimits\u001b[49m\u001b[38;5;241;43m.\u001b[39;49m\u001b[43mx\u001b[49m\u001b[43m)\u001b[49m,\n\u001b[1;32m     81\u001b[0m     y\u001b[38;5;241m=\u001b[39mget_scale_view(scale_y, \u001b[38;5;28mself\u001b[39m\u001b[38;5;241m.\u001b[39mlimits\u001b[38;5;241m.\u001b[39my),\n\u001b[1;32m     82\u001b[0m )\n\u001b[1;32m     83\u001b[0m \u001b[38;5;28;01mreturn\u001b[39;00m out\n",
      "File \u001b[0;32m~/anaconda3/envs/lab/lib/python3.10/site-packages/plotnine/coords/coord_cartesian.py:76\u001b[0m, in \u001b[0;36mcoord_cartesian.setup_panel_params.<locals>.get_scale_view\u001b[0;34m(scale, coord_limits)\u001b[0m\n\u001b[1;32m     72\u001b[0m expansion \u001b[38;5;241m=\u001b[39m scale\u001b[38;5;241m.\u001b[39mdefault_expansion(expand\u001b[38;5;241m=\u001b[39m\u001b[38;5;28mself\u001b[39m\u001b[38;5;241m.\u001b[39mexpand)\n\u001b[1;32m     73\u001b[0m ranges \u001b[38;5;241m=\u001b[39m scale\u001b[38;5;241m.\u001b[39mexpand_limits(\n\u001b[1;32m     74\u001b[0m     scale\u001b[38;5;241m.\u001b[39mlimits, expansion, coord_limits, identity_trans\n\u001b[1;32m     75\u001b[0m )\n\u001b[0;32m---> 76\u001b[0m sv \u001b[38;5;241m=\u001b[39m \u001b[43mscale\u001b[49m\u001b[38;5;241;43m.\u001b[39;49m\u001b[43mview\u001b[49m\u001b[43m(\u001b[49m\u001b[43mlimits\u001b[49m\u001b[38;5;241;43m=\u001b[39;49m\u001b[43mcoord_limits\u001b[49m\u001b[43m,\u001b[49m\u001b[43m \u001b[49m\u001b[38;5;28;43mrange\u001b[39;49m\u001b[38;5;241;43m=\u001b[39;49m\u001b[43mranges\u001b[49m\u001b[38;5;241;43m.\u001b[39;49m\u001b[43mrange\u001b[49m\u001b[43m)\u001b[49m\n\u001b[1;32m     77\u001b[0m \u001b[38;5;28;01mreturn\u001b[39;00m sv\n",
      "File \u001b[0;32m~/anaconda3/envs/lab/lib/python3.10/site-packages/plotnine/scales/scale_continuous.py:302\u001b[0m, in \u001b[0;36mscale_continuous.view\u001b[0;34m(self, limits, range)\u001b[0m\n\u001b[1;32m    299\u001b[0m \u001b[38;5;28;01mif\u001b[39;00m \u001b[38;5;28mrange\u001b[39m \u001b[38;5;129;01mis\u001b[39;00m \u001b[38;5;28;01mNone\u001b[39;00m:\n\u001b[1;32m    300\u001b[0m     \u001b[38;5;28mrange\u001b[39m \u001b[38;5;241m=\u001b[39m \u001b[38;5;28mself\u001b[39m\u001b[38;5;241m.\u001b[39mdimension(limits\u001b[38;5;241m=\u001b[39mlimits)\n\u001b[0;32m--> 302\u001b[0m breaks \u001b[38;5;241m=\u001b[39m \u001b[38;5;28;43mself\u001b[39;49m\u001b[38;5;241;43m.\u001b[39;49m\u001b[43mget_bounded_breaks\u001b[49m\u001b[43m(\u001b[49m\u001b[38;5;28;43mrange\u001b[39;49m\u001b[43m)\u001b[49m\n\u001b[1;32m    303\u001b[0m labels \u001b[38;5;241m=\u001b[39m \u001b[38;5;28mself\u001b[39m\u001b[38;5;241m.\u001b[39mget_labels(breaks)\n\u001b[1;32m    305\u001b[0m ubreaks \u001b[38;5;241m=\u001b[39m \u001b[38;5;28mself\u001b[39m\u001b[38;5;241m.\u001b[39mget_breaks(\u001b[38;5;28mrange\u001b[39m)\n",
      "File \u001b[0;32m~/anaconda3/envs/lab/lib/python3.10/site-packages/plotnine/scales/scale_continuous.py:403\u001b[0m, in \u001b[0;36mscale_continuous.get_bounded_breaks\u001b[0;34m(self, limits)\u001b[0m\n\u001b[1;32m    401\u001b[0m \u001b[38;5;28;01mif\u001b[39;00m limits \u001b[38;5;129;01mis\u001b[39;00m \u001b[38;5;28;01mNone\u001b[39;00m:\n\u001b[1;32m    402\u001b[0m     limits \u001b[38;5;241m=\u001b[39m \u001b[38;5;28mself\u001b[39m\u001b[38;5;241m.\u001b[39mlimits\n\u001b[0;32m--> 403\u001b[0m breaks \u001b[38;5;241m=\u001b[39m \u001b[38;5;28;43mself\u001b[39;49m\u001b[38;5;241;43m.\u001b[39;49m\u001b[43mget_breaks\u001b[49m\u001b[43m(\u001b[49m\u001b[43mlimits\u001b[49m\u001b[43m)\u001b[49m\n\u001b[1;32m    404\u001b[0m strict_breaks \u001b[38;5;241m=\u001b[39m [b \u001b[38;5;28;01mfor\u001b[39;00m b \u001b[38;5;129;01min\u001b[39;00m breaks \u001b[38;5;28;01mif\u001b[39;00m limits[\u001b[38;5;241m0\u001b[39m] \u001b[38;5;241m<\u001b[39m\u001b[38;5;241m=\u001b[39m b \u001b[38;5;241m<\u001b[39m\u001b[38;5;241m=\u001b[39m limits[\u001b[38;5;241m1\u001b[39m]]\n\u001b[1;32m    405\u001b[0m \u001b[38;5;28;01mreturn\u001b[39;00m strict_breaks\n",
      "File \u001b[0;32m~/anaconda3/envs/lab/lib/python3.10/site-packages/plotnine/scales/scale_continuous.py:383\u001b[0m, in \u001b[0;36mscale_continuous.get_breaks\u001b[0;34m(self, limits)\u001b[0m\n\u001b[1;32m    379\u001b[0m     breaks \u001b[38;5;241m=\u001b[39m []\n\u001b[1;32m    380\u001b[0m \u001b[38;5;28;01melif\u001b[39;00m \u001b[38;5;28mself\u001b[39m\u001b[38;5;241m.\u001b[39mbreaks \u001b[38;5;129;01mis\u001b[39;00m \u001b[38;5;28;01mTrue\u001b[39;00m:\n\u001b[1;32m    381\u001b[0m     \u001b[38;5;66;03m# TODO: Fix this type mismatch in mizani with\u001b[39;00m\n\u001b[1;32m    382\u001b[0m     \u001b[38;5;66;03m# a typevar so that type-in = type-out\u001b[39;00m\n\u001b[0;32m--> 383\u001b[0m     _tlimits \u001b[38;5;241m=\u001b[39m \u001b[38;5;28;43mself\u001b[39;49m\u001b[38;5;241;43m.\u001b[39;49m\u001b[43mtrans\u001b[49m\u001b[38;5;241;43m.\u001b[39;49m\u001b[43mbreaks\u001b[49m\u001b[43m(\u001b[49m\u001b[43m_limits\u001b[49m\u001b[43m)\u001b[49m\n\u001b[1;32m    384\u001b[0m     breaks: ScaleContinuousBreaks \u001b[38;5;241m=\u001b[39m _tlimits  \u001b[38;5;66;03m# pyright: ignore\u001b[39;00m\n\u001b[1;32m    385\u001b[0m \u001b[38;5;28;01melif\u001b[39;00m zero_range(_limits):\n",
      "File \u001b[0;32m~/anaconda3/envs/lab/lib/python3.10/site-packages/mizani/transforms.py:224\u001b[0m, in \u001b[0;36mtrans.breaks\u001b[0;34m(self, limits)\u001b[0m\n\u001b[1;32m    218\u001b[0m \u001b[38;5;66;03m# clip the breaks to the domain,\u001b[39;00m\n\u001b[1;32m    219\u001b[0m \u001b[38;5;66;03m# e.g. probabilities will be in [0, 1] domain\u001b[39;00m\n\u001b[1;32m    220\u001b[0m limits \u001b[38;5;241m=\u001b[39m (\n\u001b[1;32m    221\u001b[0m     \u001b[38;5;28mmax\u001b[39m(\u001b[38;5;28mself\u001b[39m\u001b[38;5;241m.\u001b[39mdomain[\u001b[38;5;241m0\u001b[39m], limits[\u001b[38;5;241m0\u001b[39m]),\n\u001b[1;32m    222\u001b[0m     \u001b[38;5;28mmin\u001b[39m(\u001b[38;5;28mself\u001b[39m\u001b[38;5;241m.\u001b[39mdomain[\u001b[38;5;241m1\u001b[39m], limits[\u001b[38;5;241m1\u001b[39m]),\n\u001b[1;32m    223\u001b[0m )\n\u001b[0;32m--> 224\u001b[0m breaks \u001b[38;5;241m=\u001b[39m np\u001b[38;5;241m.\u001b[39masarray(\u001b[38;5;28;43mself\u001b[39;49m\u001b[38;5;241;43m.\u001b[39;49m\u001b[43mbreaks_\u001b[49m\u001b[43m(\u001b[49m\u001b[43mlimits\u001b[49m\u001b[43m)\u001b[49m)\n\u001b[1;32m    226\u001b[0m \u001b[38;5;66;03m# Some methods (e.g. breaks_extended) that\u001b[39;00m\n\u001b[1;32m    227\u001b[0m \u001b[38;5;66;03m# calculate breaks take the limits as guide posts and\u001b[39;00m\n\u001b[1;32m    228\u001b[0m \u001b[38;5;66;03m# not hard limits.\u001b[39;00m\n\u001b[1;32m    229\u001b[0m breaks \u001b[38;5;241m=\u001b[39m breaks\u001b[38;5;241m.\u001b[39mcompress(\n\u001b[1;32m    230\u001b[0m     (breaks \u001b[38;5;241m>\u001b[39m\u001b[38;5;241m=\u001b[39m \u001b[38;5;28mself\u001b[39m\u001b[38;5;241m.\u001b[39mdomain[\u001b[38;5;241m0\u001b[39m]) \u001b[38;5;241m&\u001b[39m (breaks \u001b[38;5;241m<\u001b[39m\u001b[38;5;241m=\u001b[39m \u001b[38;5;28mself\u001b[39m\u001b[38;5;241m.\u001b[39mdomain[\u001b[38;5;241m1\u001b[39m])\n\u001b[1;32m    231\u001b[0m )\n",
      "File \u001b[0;32m~/anaconda3/envs/lab/lib/python3.10/site-packages/mizani/breaks.py:481\u001b[0m, in \u001b[0;36mbreaks_date.__call__\u001b[0;34m(self, limits)\u001b[0m\n\u001b[1;32m    477\u001b[0m     \u001b[38;5;28;01mreturn\u001b[39;00m calculate_date_breaks_byunits(\n\u001b[1;32m    478\u001b[0m         limits, \u001b[38;5;28mself\u001b[39m\u001b[38;5;241m.\u001b[39munits, \u001b[38;5;28mself\u001b[39m\u001b[38;5;241m.\u001b[39mwidth\n\u001b[1;32m    479\u001b[0m     )\n\u001b[1;32m    480\u001b[0m \u001b[38;5;28;01melse\u001b[39;00m:\n\u001b[0;32m--> 481\u001b[0m     \u001b[38;5;28;01mreturn\u001b[39;00m \u001b[43mcalculate_date_breaks_auto\u001b[49m\u001b[43m(\u001b[49m\u001b[43mlimits\u001b[49m\u001b[43m,\u001b[49m\u001b[43m \u001b[49m\u001b[38;5;28;43mself\u001b[39;49m\u001b[38;5;241;43m.\u001b[39;49m\u001b[43mn\u001b[49m\u001b[43m)\u001b[49m\n",
      "File \u001b[0;32m~/anaconda3/envs/lab/lib/python3.10/site-packages/mizani/_core/dates.py:280\u001b[0m, in \u001b[0;36mcalculate_date_breaks_auto\u001b[0;34m(limits, n)\u001b[0m\n\u001b[1;32m    276\u001b[0m \u001b[38;5;28;01mdef\u001b[39;00m \u001b[38;5;21mcalculate_date_breaks_auto\u001b[39m(limits, n: \u001b[38;5;28mint\u001b[39m \u001b[38;5;241m=\u001b[39m \u001b[38;5;241m5\u001b[39m) \u001b[38;5;241m-\u001b[39m\u001b[38;5;241m>\u001b[39m Sequence[datetime]:\n\u001b[1;32m    277\u001b[0m \u001b[38;5;250m    \u001b[39m\u001b[38;5;124;03m\"\"\"\u001b[39;00m\n\u001b[1;32m    278\u001b[0m \u001b[38;5;124;03m    Calcuate date breaks using appropriate units\u001b[39;00m\n\u001b[1;32m    279\u001b[0m \u001b[38;5;124;03m    \"\"\"\u001b[39;00m\n\u001b[0;32m--> 280\u001b[0m     info \u001b[38;5;241m=\u001b[39m \u001b[43mcalculate_date_breaks_info\u001b[49m\u001b[43m(\u001b[49m\u001b[43mlimits\u001b[49m\u001b[43m,\u001b[49m\u001b[43m \u001b[49m\u001b[43mn\u001b[49m\u001b[38;5;241;43m=\u001b[39;49m\u001b[43mn\u001b[49m\u001b[43m)\u001b[49m\n\u001b[1;32m    281\u001b[0m     lookup \u001b[38;5;241m=\u001b[39m {\n\u001b[1;32m    282\u001b[0m         DF\u001b[38;5;241m.\u001b[39mYEARLY: yearly_breaks,\n\u001b[1;32m    283\u001b[0m         DF\u001b[38;5;241m.\u001b[39mMONTHLY: monthly_breaks,\n\u001b[0;32m   (...)\u001b[0m\n\u001b[1;32m    288\u001b[0m         DF\u001b[38;5;241m.\u001b[39mMICROSECONDLY: microsecondly_breaks,\n\u001b[1;32m    289\u001b[0m     }\n\u001b[1;32m    290\u001b[0m     \u001b[38;5;28;01mreturn\u001b[39;00m lookup[info\u001b[38;5;241m.\u001b[39mfrequency](info)\n",
      "File \u001b[0;32m~/anaconda3/envs/lab/lib/python3.10/site-packages/mizani/_core/dates.py:232\u001b[0m, in \u001b[0;36mcalculate_date_breaks_info\u001b[0;34m(limits, n)\u001b[0m\n\u001b[1;32m    225\u001b[0m \u001b[38;5;66;03m# Widen the duration at each granularity\u001b[39;00m\n\u001b[1;32m    226\u001b[0m itv \u001b[38;5;241m=\u001b[39m Interval(\u001b[38;5;241m*\u001b[39mlimits)\n\u001b[1;32m    227\u001b[0m unit_durations \u001b[38;5;241m=\u001b[39m (\n\u001b[1;32m    228\u001b[0m     itv\u001b[38;5;241m.\u001b[39my_wide,\n\u001b[1;32m    229\u001b[0m     itv\u001b[38;5;241m.\u001b[39mM_wide,\n\u001b[1;32m    230\u001b[0m     itv\u001b[38;5;241m.\u001b[39md_wide,\n\u001b[1;32m    231\u001b[0m     itv\u001b[38;5;241m.\u001b[39mh_wide,\n\u001b[0;32m--> 232\u001b[0m     \u001b[43mitv\u001b[49m\u001b[38;5;241;43m.\u001b[39;49m\u001b[43mm_wide\u001b[49m,\n\u001b[1;32m    233\u001b[0m     itv\u001b[38;5;241m.\u001b[39ms,\n\u001b[1;32m    234\u001b[0m     itv\u001b[38;5;241m.\u001b[39mu,\n\u001b[1;32m    235\u001b[0m )\n\u001b[1;32m    236\u001b[0m \u001b[38;5;66;03m# Search frequencies from longest (yearly) to the smallest\u001b[39;00m\n\u001b[1;32m    237\u001b[0m \u001b[38;5;66;03m# for one that would a good width between the breaks\u001b[39;00m\n\u001b[1;32m    238\u001b[0m \n\u001b[1;32m    239\u001b[0m \u001b[38;5;66;03m# Defaults\u001b[39;00m\n\u001b[1;32m    240\u001b[0m freq \u001b[38;5;241m=\u001b[39m DF\u001b[38;5;241m.\u001b[39mYEARLY  \u001b[38;5;66;03m# makes pyright happy\u001b[39;00m\n",
      "File \u001b[0;32m~/anaconda3/envs/lab/lib/python3.10/site-packages/mizani/_core/date_utils.py:131\u001b[0m, in \u001b[0;36mInterval.m_wide\u001b[0;34m(self)\u001b[0m\n\u001b[1;32m    126\u001b[0m \u001b[38;5;129m@property\u001b[39m\n\u001b[1;32m    127\u001b[0m \u001b[38;5;28;01mdef\u001b[39;00m \u001b[38;5;21mm_wide\u001b[39m(\u001b[38;5;28mself\u001b[39m) \u001b[38;5;241m-\u001b[39m\u001b[38;5;241m>\u001b[39m \u001b[38;5;28mint\u001b[39m:\n\u001b[1;32m    128\u001b[0m \u001b[38;5;250m    \u001b[39m\u001b[38;5;124;03m\"\"\"\u001b[39;00m\n\u001b[1;32m    129\u001b[0m \u001b[38;5;124;03m    Minutes (enclosing the original)\u001b[39;00m\n\u001b[1;32m    130\u001b[0m \u001b[38;5;124;03m    \"\"\"\u001b[39;00m\n\u001b[0;32m--> 131\u001b[0m     \u001b[38;5;28;01mreturn\u001b[39;00m \u001b[43mInterval\u001b[49m\u001b[43m(\u001b[49m\u001b[38;5;241;43m*\u001b[39;49m\u001b[38;5;28;43mself\u001b[39;49m\u001b[38;5;241;43m.\u001b[39;49m\u001b[43mlimits_minute\u001b[49m\u001b[43m(\u001b[49m\u001b[43m)\u001b[49m\u001b[43m)\u001b[49m\u001b[38;5;241m.\u001b[39mm\n",
      "File \u001b[0;32m<string>:5\u001b[0m, in \u001b[0;36m__init__\u001b[0;34m(self, start, end)\u001b[0m\n",
      "File \u001b[0;32m~/anaconda3/envs/lab/lib/python3.10/site-packages/mizani/_core/date_utils.py:46\u001b[0m, in \u001b[0;36mInterval.__post_init__\u001b[0;34m(self)\u001b[0m\n\u001b[1;32m     43\u001b[0m \u001b[38;5;28;01mif\u001b[39;00m \u001b[38;5;28misinstance\u001b[39m(\u001b[38;5;28mself\u001b[39m\u001b[38;5;241m.\u001b[39mend, date):\n\u001b[1;32m     44\u001b[0m     \u001b[38;5;28mself\u001b[39m\u001b[38;5;241m.\u001b[39mend \u001b[38;5;241m=\u001b[39m datetime\u001b[38;5;241m.\u001b[39mfromisoformat(\u001b[38;5;28mself\u001b[39m\u001b[38;5;241m.\u001b[39mend\u001b[38;5;241m.\u001b[39misoformat())\n\u001b[0;32m---> 46\u001b[0m \u001b[38;5;28mself\u001b[39m\u001b[38;5;241m.\u001b[39m_delta \u001b[38;5;241m=\u001b[39m \u001b[43mrelativedelta\u001b[49m\u001b[43m(\u001b[49m\u001b[38;5;28;43mself\u001b[39;49m\u001b[38;5;241;43m.\u001b[39;49m\u001b[43mend\u001b[49m\u001b[43m,\u001b[49m\u001b[43m \u001b[49m\u001b[38;5;28;43mself\u001b[39;49m\u001b[38;5;241;43m.\u001b[39;49m\u001b[43mstart\u001b[49m\u001b[43m)\u001b[49m\n\u001b[1;32m     47\u001b[0m \u001b[38;5;28mself\u001b[39m\u001b[38;5;241m.\u001b[39m_tdelta \u001b[38;5;241m=\u001b[39m \u001b[38;5;28mself\u001b[39m\u001b[38;5;241m.\u001b[39mend \u001b[38;5;241m-\u001b[39m \u001b[38;5;28mself\u001b[39m\u001b[38;5;241m.\u001b[39mstart\n",
      "File \u001b[0;32m~/anaconda3/envs/lab/lib/python3.10/site-packages/dateutil/relativedelta.py:154\u001b[0m, in \u001b[0;36mrelativedelta.__init__\u001b[0;34m(self, dt1, dt2, years, months, days, leapdays, weeks, hours, minutes, seconds, microseconds, year, month, day, weekday, yearday, nlyearday, hour, minute, second, microsecond)\u001b[0m\n\u001b[1;32m    151\u001b[0m dtm \u001b[38;5;241m=\u001b[39m \u001b[38;5;28mself\u001b[39m\u001b[38;5;241m.\u001b[39m\u001b[38;5;21m__radd__\u001b[39m(dt2)\n\u001b[1;32m    153\u001b[0m \u001b[38;5;66;03m# If we've overshot our target, make an adjustment\u001b[39;00m\n\u001b[0;32m--> 154\u001b[0m \u001b[38;5;28;01mif\u001b[39;00m \u001b[43mdt1\u001b[49m\u001b[43m \u001b[49m\u001b[38;5;241;43m<\u001b[39;49m\u001b[43m \u001b[49m\u001b[43mdt2\u001b[49m:\n\u001b[1;32m    155\u001b[0m     compare \u001b[38;5;241m=\u001b[39m operator\u001b[38;5;241m.\u001b[39mgt\n\u001b[1;32m    156\u001b[0m     increment \u001b[38;5;241m=\u001b[39m \u001b[38;5;241m1\u001b[39m\n",
      "\u001b[0;31mTypeError\u001b[0m: can't compare offset-naive and offset-aware datetimes"
     ]
    },
    {
     "name": "stderr",
     "output_type": "stream",
     "text": [
      "/home/david/anaconda3/envs/lab/lib/python3.10/site-packages/IPython/lib/pretty.py:779: FutureWarning: Using repr(plot) to draw and show the plot figure is deprecated and will be removed in a future version. Use plot.show().\n"
     ]
    },
    {
     "ename": "TypeError",
     "evalue": "can't compare offset-naive and offset-aware datetimes",
     "output_type": "error",
     "traceback": [
      "\u001b[0;31m---------------------------------------------------------------------------\u001b[0m",
      "\u001b[0;31mTypeError\u001b[0m                                 Traceback (most recent call last)",
      "File \u001b[0;32m~/anaconda3/envs/lab/lib/python3.10/site-packages/IPython/core/formatters.py:711\u001b[0m, in \u001b[0;36mPlainTextFormatter.__call__\u001b[0;34m(self, obj)\u001b[0m\n\u001b[1;32m    704\u001b[0m stream \u001b[38;5;241m=\u001b[39m StringIO()\n\u001b[1;32m    705\u001b[0m printer \u001b[38;5;241m=\u001b[39m pretty\u001b[38;5;241m.\u001b[39mRepresentationPrinter(stream, \u001b[38;5;28mself\u001b[39m\u001b[38;5;241m.\u001b[39mverbose,\n\u001b[1;32m    706\u001b[0m     \u001b[38;5;28mself\u001b[39m\u001b[38;5;241m.\u001b[39mmax_width, \u001b[38;5;28mself\u001b[39m\u001b[38;5;241m.\u001b[39mnewline,\n\u001b[1;32m    707\u001b[0m     max_seq_length\u001b[38;5;241m=\u001b[39m\u001b[38;5;28mself\u001b[39m\u001b[38;5;241m.\u001b[39mmax_seq_length,\n\u001b[1;32m    708\u001b[0m     singleton_pprinters\u001b[38;5;241m=\u001b[39m\u001b[38;5;28mself\u001b[39m\u001b[38;5;241m.\u001b[39msingleton_printers,\n\u001b[1;32m    709\u001b[0m     type_pprinters\u001b[38;5;241m=\u001b[39m\u001b[38;5;28mself\u001b[39m\u001b[38;5;241m.\u001b[39mtype_printers,\n\u001b[1;32m    710\u001b[0m     deferred_pprinters\u001b[38;5;241m=\u001b[39m\u001b[38;5;28mself\u001b[39m\u001b[38;5;241m.\u001b[39mdeferred_printers)\n\u001b[0;32m--> 711\u001b[0m \u001b[43mprinter\u001b[49m\u001b[38;5;241;43m.\u001b[39;49m\u001b[43mpretty\u001b[49m\u001b[43m(\u001b[49m\u001b[43mobj\u001b[49m\u001b[43m)\u001b[49m\n\u001b[1;32m    712\u001b[0m printer\u001b[38;5;241m.\u001b[39mflush()\n\u001b[1;32m    713\u001b[0m \u001b[38;5;28;01mreturn\u001b[39;00m stream\u001b[38;5;241m.\u001b[39mgetvalue()\n",
      "File \u001b[0;32m~/anaconda3/envs/lab/lib/python3.10/site-packages/IPython/lib/pretty.py:411\u001b[0m, in \u001b[0;36mRepresentationPrinter.pretty\u001b[0;34m(self, obj)\u001b[0m\n\u001b[1;32m    408\u001b[0m                         \u001b[38;5;28;01mreturn\u001b[39;00m meth(obj, \u001b[38;5;28mself\u001b[39m, cycle)\n\u001b[1;32m    409\u001b[0m                 \u001b[38;5;28;01mif\u001b[39;00m \u001b[38;5;28mcls\u001b[39m \u001b[38;5;129;01mis\u001b[39;00m \u001b[38;5;129;01mnot\u001b[39;00m \u001b[38;5;28mobject\u001b[39m \\\n\u001b[1;32m    410\u001b[0m                         \u001b[38;5;129;01mand\u001b[39;00m \u001b[38;5;28mcallable\u001b[39m(\u001b[38;5;28mcls\u001b[39m\u001b[38;5;241m.\u001b[39m\u001b[38;5;18m__dict__\u001b[39m\u001b[38;5;241m.\u001b[39mget(\u001b[38;5;124m'\u001b[39m\u001b[38;5;124m__repr__\u001b[39m\u001b[38;5;124m'\u001b[39m)):\n\u001b[0;32m--> 411\u001b[0m                     \u001b[38;5;28;01mreturn\u001b[39;00m \u001b[43m_repr_pprint\u001b[49m\u001b[43m(\u001b[49m\u001b[43mobj\u001b[49m\u001b[43m,\u001b[49m\u001b[43m \u001b[49m\u001b[38;5;28;43mself\u001b[39;49m\u001b[43m,\u001b[49m\u001b[43m \u001b[49m\u001b[43mcycle\u001b[49m\u001b[43m)\u001b[49m\n\u001b[1;32m    413\u001b[0m     \u001b[38;5;28;01mreturn\u001b[39;00m _default_pprint(obj, \u001b[38;5;28mself\u001b[39m, cycle)\n\u001b[1;32m    414\u001b[0m \u001b[38;5;28;01mfinally\u001b[39;00m:\n",
      "File \u001b[0;32m~/anaconda3/envs/lab/lib/python3.10/site-packages/IPython/lib/pretty.py:779\u001b[0m, in \u001b[0;36m_repr_pprint\u001b[0;34m(obj, p, cycle)\u001b[0m\n\u001b[1;32m    777\u001b[0m \u001b[38;5;250m\u001b[39m\u001b[38;5;124;03m\"\"\"A pprint that just redirects to the normal repr function.\"\"\"\u001b[39;00m\n\u001b[1;32m    778\u001b[0m \u001b[38;5;66;03m# Find newlines and replace them with p.break_()\u001b[39;00m\n\u001b[0;32m--> 779\u001b[0m output \u001b[38;5;241m=\u001b[39m \u001b[38;5;28;43mrepr\u001b[39;49m\u001b[43m(\u001b[49m\u001b[43mobj\u001b[49m\u001b[43m)\u001b[49m\n\u001b[1;32m    780\u001b[0m lines \u001b[38;5;241m=\u001b[39m output\u001b[38;5;241m.\u001b[39msplitlines()\n\u001b[1;32m    781\u001b[0m \u001b[38;5;28;01mwith\u001b[39;00m p\u001b[38;5;241m.\u001b[39mgroup():\n",
      "File \u001b[0;32m~/anaconda3/envs/lab/lib/python3.10/site-packages/plotnine/ggplot.py:131\u001b[0m, in \u001b[0;36mggplot.__repr__\u001b[0;34m(self)\u001b[0m\n\u001b[1;32m    125\u001b[0m msg \u001b[38;5;241m=\u001b[39m (\n\u001b[1;32m    126\u001b[0m     \u001b[38;5;124m\"\u001b[39m\u001b[38;5;124mUsing repr(plot) to draw and show the plot figure is \u001b[39m\u001b[38;5;124m\"\u001b[39m\n\u001b[1;32m    127\u001b[0m     \u001b[38;5;124m\"\u001b[39m\u001b[38;5;124mdeprecated and will be removed in a future version. \u001b[39m\u001b[38;5;124m\"\u001b[39m\n\u001b[1;32m    128\u001b[0m     \u001b[38;5;124m\"\u001b[39m\u001b[38;5;124mUse plot.show().\u001b[39m\u001b[38;5;124m\"\u001b[39m\n\u001b[1;32m    129\u001b[0m )\n\u001b[1;32m    130\u001b[0m warn(msg, category\u001b[38;5;241m=\u001b[39m\u001b[38;5;167;01mFutureWarning\u001b[39;00m, stacklevel\u001b[38;5;241m=\u001b[39m\u001b[38;5;241m2\u001b[39m)\n\u001b[0;32m--> 131\u001b[0m \u001b[38;5;28;43mself\u001b[39;49m\u001b[38;5;241;43m.\u001b[39;49m\u001b[43mshow\u001b[49m\u001b[43m(\u001b[49m\u001b[43m)\u001b[49m\n\u001b[1;32m    132\u001b[0m \u001b[38;5;28;01mreturn\u001b[39;00m \u001b[38;5;124mf\u001b[39m\u001b[38;5;124m\"\u001b[39m\u001b[38;5;124m<Figure Size: (\u001b[39m\u001b[38;5;132;01m{\u001b[39;00mW\u001b[38;5;132;01m}\u001b[39;00m\u001b[38;5;124m x \u001b[39m\u001b[38;5;132;01m{\u001b[39;00mH\u001b[38;5;132;01m}\u001b[39;00m\u001b[38;5;124m)>\u001b[39m\u001b[38;5;124m\"\u001b[39m\n",
      "File \u001b[0;32m~/anaconda3/envs/lab/lib/python3.10/site-packages/plotnine/ggplot.py:150\u001b[0m, in \u001b[0;36mggplot.show\u001b[0;34m(self)\u001b[0m\n\u001b[1;32m    143\u001b[0m \u001b[38;5;28;01mdef\u001b[39;00m \u001b[38;5;21mshow\u001b[39m(\u001b[38;5;28mself\u001b[39m):\n\u001b[1;32m    144\u001b[0m \u001b[38;5;250m    \u001b[39m\u001b[38;5;124;03m\"\"\"\u001b[39;00m\n\u001b[1;32m    145\u001b[0m \u001b[38;5;124;03m    Show plot using the matplotlib backend set by the user\u001b[39;00m\n\u001b[1;32m    146\u001b[0m \n\u001b[1;32m    147\u001b[0m \u001b[38;5;124;03m    Users should prefer this method instead of printing or repring\u001b[39;00m\n\u001b[1;32m    148\u001b[0m \u001b[38;5;124;03m    the object.\u001b[39;00m\n\u001b[1;32m    149\u001b[0m \u001b[38;5;124;03m    \"\"\"\u001b[39;00m\n\u001b[0;32m--> 150\u001b[0m     \u001b[38;5;28;43mself\u001b[39;49m\u001b[38;5;241;43m.\u001b[39;49m\u001b[43m_display\u001b[49m\u001b[43m(\u001b[49m\u001b[43m)\u001b[49m \u001b[38;5;28;01mif\u001b[39;00m is_inline_backend() \u001b[38;5;28;01melse\u001b[39;00m \u001b[38;5;28mself\u001b[39m\u001b[38;5;241m.\u001b[39mdraw(show\u001b[38;5;241m=\u001b[39m\u001b[38;5;28;01mTrue\u001b[39;00m)\n",
      "File \u001b[0;32m~/anaconda3/envs/lab/lib/python3.10/site-packages/plotnine/ggplot.py:175\u001b[0m, in \u001b[0;36mggplot._display\u001b[0;34m(self)\u001b[0m\n\u001b[1;32m    172\u001b[0m     save_format \u001b[38;5;241m=\u001b[39m \u001b[38;5;124m\"\u001b[39m\u001b[38;5;124mpng\u001b[39m\u001b[38;5;124m\"\u001b[39m\n\u001b[1;32m    174\u001b[0m buf \u001b[38;5;241m=\u001b[39m BytesIO()\n\u001b[0;32m--> 175\u001b[0m \u001b[38;5;28;43mself\u001b[39;49m\u001b[38;5;241;43m.\u001b[39;49m\u001b[43msave\u001b[49m\u001b[43m(\u001b[49m\u001b[43mbuf\u001b[49m\u001b[43m,\u001b[49m\u001b[43m \u001b[49m\u001b[38;5;28;43mformat\u001b[39;49m\u001b[38;5;241;43m=\u001b[39;49m\u001b[43msave_format\u001b[49m\u001b[43m,\u001b[49m\u001b[43m \u001b[49m\u001b[43mverbose\u001b[49m\u001b[38;5;241;43m=\u001b[39;49m\u001b[38;5;28;43;01mFalse\u001b[39;49;00m\u001b[43m)\u001b[49m\n\u001b[1;32m    176\u001b[0m display_func \u001b[38;5;241m=\u001b[39m get_display_function(\u001b[38;5;28mformat\u001b[39m)\n\u001b[1;32m    177\u001b[0m display_func(buf\u001b[38;5;241m.\u001b[39mgetvalue())\n",
      "File \u001b[0;32m~/anaconda3/envs/lab/lib/python3.10/site-packages/plotnine/ggplot.py:663\u001b[0m, in \u001b[0;36mggplot.save\u001b[0;34m(self, filename, format, path, width, height, units, dpi, limitsize, verbose, **kwargs)\u001b[0m\n\u001b[1;32m    615\u001b[0m \u001b[38;5;28;01mdef\u001b[39;00m \u001b[38;5;21msave\u001b[39m(\n\u001b[1;32m    616\u001b[0m     \u001b[38;5;28mself\u001b[39m,\n\u001b[1;32m    617\u001b[0m     filename: Optional[\u001b[38;5;28mstr\u001b[39m \u001b[38;5;241m|\u001b[39m Path \u001b[38;5;241m|\u001b[39m BytesIO] \u001b[38;5;241m=\u001b[39m \u001b[38;5;28;01mNone\u001b[39;00m,\n\u001b[0;32m   (...)\u001b[0m\n\u001b[1;32m    626\u001b[0m     \u001b[38;5;241m*\u001b[39m\u001b[38;5;241m*\u001b[39mkwargs: Any,\n\u001b[1;32m    627\u001b[0m ):\n\u001b[1;32m    628\u001b[0m \u001b[38;5;250m    \u001b[39m\u001b[38;5;124;03m\"\"\"\u001b[39;00m\n\u001b[1;32m    629\u001b[0m \u001b[38;5;124;03m    Save a ggplot object as an image file\u001b[39;00m\n\u001b[1;32m    630\u001b[0m \n\u001b[0;32m   (...)\u001b[0m\n\u001b[1;32m    661\u001b[0m \u001b[38;5;124;03m        Additional arguments to pass to matplotlib `savefig()`.\u001b[39;00m\n\u001b[1;32m    662\u001b[0m \u001b[38;5;124;03m    \"\"\"\u001b[39;00m\n\u001b[0;32m--> 663\u001b[0m     sv \u001b[38;5;241m=\u001b[39m \u001b[38;5;28;43mself\u001b[39;49m\u001b[38;5;241;43m.\u001b[39;49m\u001b[43msave_helper\u001b[49m\u001b[43m(\u001b[49m\n\u001b[1;32m    664\u001b[0m \u001b[43m        \u001b[49m\u001b[43mfilename\u001b[49m\u001b[38;5;241;43m=\u001b[39;49m\u001b[43mfilename\u001b[49m\u001b[43m,\u001b[49m\n\u001b[1;32m    665\u001b[0m \u001b[43m        \u001b[49m\u001b[38;5;28;43mformat\u001b[39;49m\u001b[38;5;241;43m=\u001b[39;49m\u001b[38;5;28;43mformat\u001b[39;49m\u001b[43m,\u001b[49m\n\u001b[1;32m    666\u001b[0m \u001b[43m        \u001b[49m\u001b[43mpath\u001b[49m\u001b[38;5;241;43m=\u001b[39;49m\u001b[43mpath\u001b[49m\u001b[43m,\u001b[49m\n\u001b[1;32m    667\u001b[0m \u001b[43m        \u001b[49m\u001b[43mwidth\u001b[49m\u001b[38;5;241;43m=\u001b[39;49m\u001b[43mwidth\u001b[49m\u001b[43m,\u001b[49m\n\u001b[1;32m    668\u001b[0m \u001b[43m        \u001b[49m\u001b[43mheight\u001b[49m\u001b[38;5;241;43m=\u001b[39;49m\u001b[43mheight\u001b[49m\u001b[43m,\u001b[49m\n\u001b[1;32m    669\u001b[0m \u001b[43m        \u001b[49m\u001b[43munits\u001b[49m\u001b[38;5;241;43m=\u001b[39;49m\u001b[43munits\u001b[49m\u001b[43m,\u001b[49m\n\u001b[1;32m    670\u001b[0m \u001b[43m        \u001b[49m\u001b[43mdpi\u001b[49m\u001b[38;5;241;43m=\u001b[39;49m\u001b[43mdpi\u001b[49m\u001b[43m,\u001b[49m\n\u001b[1;32m    671\u001b[0m \u001b[43m        \u001b[49m\u001b[43mlimitsize\u001b[49m\u001b[38;5;241;43m=\u001b[39;49m\u001b[43mlimitsize\u001b[49m\u001b[43m,\u001b[49m\n\u001b[1;32m    672\u001b[0m \u001b[43m        \u001b[49m\u001b[43mverbose\u001b[49m\u001b[38;5;241;43m=\u001b[39;49m\u001b[43mverbose\u001b[49m\u001b[43m,\u001b[49m\n\u001b[1;32m    673\u001b[0m \u001b[43m        \u001b[49m\u001b[38;5;241;43m*\u001b[39;49m\u001b[38;5;241;43m*\u001b[39;49m\u001b[43mkwargs\u001b[49m\u001b[43m,\u001b[49m\n\u001b[1;32m    674\u001b[0m \u001b[43m    \u001b[49m\u001b[43m)\u001b[49m\n\u001b[1;32m    676\u001b[0m     \u001b[38;5;28;01mwith\u001b[39;00m plot_context(\u001b[38;5;28mself\u001b[39m)\u001b[38;5;241m.\u001b[39mrc_context:\n\u001b[1;32m    677\u001b[0m         sv\u001b[38;5;241m.\u001b[39mfigure\u001b[38;5;241m.\u001b[39msavefig(\u001b[38;5;241m*\u001b[39m\u001b[38;5;241m*\u001b[39msv\u001b[38;5;241m.\u001b[39mkwargs)\n",
      "File \u001b[0;32m~/anaconda3/envs/lab/lib/python3.10/site-packages/plotnine/ggplot.py:612\u001b[0m, in \u001b[0;36mggplot.save_helper\u001b[0;34m(self, filename, format, path, width, height, units, dpi, limitsize, verbose, **kwargs)\u001b[0m\n\u001b[1;32m    609\u001b[0m \u001b[38;5;28;01mif\u001b[39;00m dpi \u001b[38;5;129;01mis\u001b[39;00m \u001b[38;5;129;01mnot\u001b[39;00m \u001b[38;5;28;01mNone\u001b[39;00m:\n\u001b[1;32m    610\u001b[0m     \u001b[38;5;28mself\u001b[39m\u001b[38;5;241m.\u001b[39mtheme \u001b[38;5;241m=\u001b[39m \u001b[38;5;28mself\u001b[39m\u001b[38;5;241m.\u001b[39mtheme \u001b[38;5;241m+\u001b[39m theme(dpi\u001b[38;5;241m=\u001b[39mdpi)\n\u001b[0;32m--> 612\u001b[0m figure \u001b[38;5;241m=\u001b[39m \u001b[38;5;28;43mself\u001b[39;49m\u001b[38;5;241;43m.\u001b[39;49m\u001b[43mdraw\u001b[49m\u001b[43m(\u001b[49m\u001b[43mshow\u001b[49m\u001b[38;5;241;43m=\u001b[39;49m\u001b[38;5;28;43;01mFalse\u001b[39;49;00m\u001b[43m)\u001b[49m\n\u001b[1;32m    613\u001b[0m \u001b[38;5;28;01mreturn\u001b[39;00m mpl_save_view(figure, fig_kwargs)\n",
      "File \u001b[0;32m~/anaconda3/envs/lab/lib/python3.10/site-packages/plotnine/ggplot.py:272\u001b[0m, in \u001b[0;36mggplot.draw\u001b[0;34m(self, show)\u001b[0m\n\u001b[1;32m    270\u001b[0m \u001b[38;5;28mself\u001b[39m \u001b[38;5;241m=\u001b[39m deepcopy(\u001b[38;5;28mself\u001b[39m)\n\u001b[1;32m    271\u001b[0m \u001b[38;5;28;01mwith\u001b[39;00m plot_context(\u001b[38;5;28mself\u001b[39m, show\u001b[38;5;241m=\u001b[39mshow):\n\u001b[0;32m--> 272\u001b[0m     \u001b[38;5;28;43mself\u001b[39;49m\u001b[38;5;241;43m.\u001b[39;49m\u001b[43m_build\u001b[49m\u001b[43m(\u001b[49m\u001b[43m)\u001b[49m\n\u001b[1;32m    274\u001b[0m     \u001b[38;5;66;03m# setup\u001b[39;00m\n\u001b[1;32m    275\u001b[0m     \u001b[38;5;28mself\u001b[39m\u001b[38;5;241m.\u001b[39mfigure, \u001b[38;5;28mself\u001b[39m\u001b[38;5;241m.\u001b[39maxs \u001b[38;5;241m=\u001b[39m \u001b[38;5;28mself\u001b[39m\u001b[38;5;241m.\u001b[39mfacet\u001b[38;5;241m.\u001b[39msetup(\u001b[38;5;28mself\u001b[39m)\n",
      "File \u001b[0;32m~/anaconda3/envs/lab/lib/python3.10/site-packages/plotnine/ggplot.py:400\u001b[0m, in \u001b[0;36mggplot._build\u001b[0;34m(self)\u001b[0m\n\u001b[1;32m    397\u001b[0m     layers\u001b[38;5;241m.\u001b[39mmap(npscales)\n\u001b[1;32m    399\u001b[0m \u001b[38;5;66;03m# Train coordinate system\u001b[39;00m\n\u001b[0;32m--> 400\u001b[0m \u001b[43mlayout\u001b[49m\u001b[38;5;241;43m.\u001b[39;49m\u001b[43msetup_panel_params\u001b[49m\u001b[43m(\u001b[49m\u001b[38;5;28;43mself\u001b[39;49m\u001b[38;5;241;43m.\u001b[39;49m\u001b[43mcoordinates\u001b[49m\u001b[43m)\u001b[49m\n\u001b[1;32m    402\u001b[0m \u001b[38;5;66;03m# fill in the defaults\u001b[39;00m\n\u001b[1;32m    403\u001b[0m layers\u001b[38;5;241m.\u001b[39muse_defaults_after_scale()\n",
      "File \u001b[0;32m~/anaconda3/envs/lab/lib/python3.10/site-packages/plotnine/facets/layout.py:198\u001b[0m, in \u001b[0;36mLayout.setup_panel_params\u001b[0;34m(self, coord)\u001b[0m\n\u001b[1;32m    196\u001b[0m \u001b[38;5;28;01mfor\u001b[39;00m i, j \u001b[38;5;129;01min\u001b[39;00m \u001b[38;5;28mself\u001b[39m\u001b[38;5;241m.\u001b[39mlayout[cols]\u001b[38;5;241m.\u001b[39mitertuples(index\u001b[38;5;241m=\u001b[39m\u001b[38;5;28;01mFalse\u001b[39;00m):\n\u001b[1;32m    197\u001b[0m     i, j \u001b[38;5;241m=\u001b[39m i \u001b[38;5;241m-\u001b[39m \u001b[38;5;241m1\u001b[39m, j \u001b[38;5;241m-\u001b[39m \u001b[38;5;241m1\u001b[39m\n\u001b[0;32m--> 198\u001b[0m     params \u001b[38;5;241m=\u001b[39m \u001b[43mcoord\u001b[49m\u001b[38;5;241;43m.\u001b[39;49m\u001b[43msetup_panel_params\u001b[49m\u001b[43m(\u001b[49m\n\u001b[1;32m    199\u001b[0m \u001b[43m        \u001b[49m\u001b[38;5;28;43mself\u001b[39;49m\u001b[38;5;241;43m.\u001b[39;49m\u001b[43mpanel_scales_x\u001b[49m\u001b[43m[\u001b[49m\u001b[43mi\u001b[49m\u001b[43m]\u001b[49m\u001b[43m,\u001b[49m\u001b[43m \u001b[49m\u001b[38;5;28;43mself\u001b[39;49m\u001b[38;5;241;43m.\u001b[39;49m\u001b[43mpanel_scales_y\u001b[49m\u001b[43m[\u001b[49m\u001b[43mj\u001b[49m\u001b[43m]\u001b[49m\n\u001b[1;32m    200\u001b[0m \u001b[43m    \u001b[49m\u001b[43m)\u001b[49m\n\u001b[1;32m    201\u001b[0m     \u001b[38;5;28mself\u001b[39m\u001b[38;5;241m.\u001b[39mpanel_params\u001b[38;5;241m.\u001b[39mappend(params)\n",
      "File \u001b[0;32m~/anaconda3/envs/lab/lib/python3.10/site-packages/plotnine/coords/coord_cartesian.py:80\u001b[0m, in \u001b[0;36mcoord_cartesian.setup_panel_params\u001b[0;34m(self, scale_x, scale_y)\u001b[0m\n\u001b[1;32m     76\u001b[0m     sv \u001b[38;5;241m=\u001b[39m scale\u001b[38;5;241m.\u001b[39mview(limits\u001b[38;5;241m=\u001b[39mcoord_limits, \u001b[38;5;28mrange\u001b[39m\u001b[38;5;241m=\u001b[39mranges\u001b[38;5;241m.\u001b[39mrange)\n\u001b[1;32m     77\u001b[0m     \u001b[38;5;28;01mreturn\u001b[39;00m sv\n\u001b[1;32m     79\u001b[0m out \u001b[38;5;241m=\u001b[39m panel_view(\n\u001b[0;32m---> 80\u001b[0m     x\u001b[38;5;241m=\u001b[39m\u001b[43mget_scale_view\u001b[49m\u001b[43m(\u001b[49m\u001b[43mscale_x\u001b[49m\u001b[43m,\u001b[49m\u001b[43m \u001b[49m\u001b[38;5;28;43mself\u001b[39;49m\u001b[38;5;241;43m.\u001b[39;49m\u001b[43mlimits\u001b[49m\u001b[38;5;241;43m.\u001b[39;49m\u001b[43mx\u001b[49m\u001b[43m)\u001b[49m,\n\u001b[1;32m     81\u001b[0m     y\u001b[38;5;241m=\u001b[39mget_scale_view(scale_y, \u001b[38;5;28mself\u001b[39m\u001b[38;5;241m.\u001b[39mlimits\u001b[38;5;241m.\u001b[39my),\n\u001b[1;32m     82\u001b[0m )\n\u001b[1;32m     83\u001b[0m \u001b[38;5;28;01mreturn\u001b[39;00m out\n",
      "File \u001b[0;32m~/anaconda3/envs/lab/lib/python3.10/site-packages/plotnine/coords/coord_cartesian.py:76\u001b[0m, in \u001b[0;36mcoord_cartesian.setup_panel_params.<locals>.get_scale_view\u001b[0;34m(scale, coord_limits)\u001b[0m\n\u001b[1;32m     72\u001b[0m expansion \u001b[38;5;241m=\u001b[39m scale\u001b[38;5;241m.\u001b[39mdefault_expansion(expand\u001b[38;5;241m=\u001b[39m\u001b[38;5;28mself\u001b[39m\u001b[38;5;241m.\u001b[39mexpand)\n\u001b[1;32m     73\u001b[0m ranges \u001b[38;5;241m=\u001b[39m scale\u001b[38;5;241m.\u001b[39mexpand_limits(\n\u001b[1;32m     74\u001b[0m     scale\u001b[38;5;241m.\u001b[39mlimits, expansion, coord_limits, identity_trans\n\u001b[1;32m     75\u001b[0m )\n\u001b[0;32m---> 76\u001b[0m sv \u001b[38;5;241m=\u001b[39m \u001b[43mscale\u001b[49m\u001b[38;5;241;43m.\u001b[39;49m\u001b[43mview\u001b[49m\u001b[43m(\u001b[49m\u001b[43mlimits\u001b[49m\u001b[38;5;241;43m=\u001b[39;49m\u001b[43mcoord_limits\u001b[49m\u001b[43m,\u001b[49m\u001b[43m \u001b[49m\u001b[38;5;28;43mrange\u001b[39;49m\u001b[38;5;241;43m=\u001b[39;49m\u001b[43mranges\u001b[49m\u001b[38;5;241;43m.\u001b[39;49m\u001b[43mrange\u001b[49m\u001b[43m)\u001b[49m\n\u001b[1;32m     77\u001b[0m \u001b[38;5;28;01mreturn\u001b[39;00m sv\n",
      "File \u001b[0;32m~/anaconda3/envs/lab/lib/python3.10/site-packages/plotnine/scales/scale_continuous.py:302\u001b[0m, in \u001b[0;36mscale_continuous.view\u001b[0;34m(self, limits, range)\u001b[0m\n\u001b[1;32m    299\u001b[0m \u001b[38;5;28;01mif\u001b[39;00m \u001b[38;5;28mrange\u001b[39m \u001b[38;5;129;01mis\u001b[39;00m \u001b[38;5;28;01mNone\u001b[39;00m:\n\u001b[1;32m    300\u001b[0m     \u001b[38;5;28mrange\u001b[39m \u001b[38;5;241m=\u001b[39m \u001b[38;5;28mself\u001b[39m\u001b[38;5;241m.\u001b[39mdimension(limits\u001b[38;5;241m=\u001b[39mlimits)\n\u001b[0;32m--> 302\u001b[0m breaks \u001b[38;5;241m=\u001b[39m \u001b[38;5;28;43mself\u001b[39;49m\u001b[38;5;241;43m.\u001b[39;49m\u001b[43mget_bounded_breaks\u001b[49m\u001b[43m(\u001b[49m\u001b[38;5;28;43mrange\u001b[39;49m\u001b[43m)\u001b[49m\n\u001b[1;32m    303\u001b[0m labels \u001b[38;5;241m=\u001b[39m \u001b[38;5;28mself\u001b[39m\u001b[38;5;241m.\u001b[39mget_labels(breaks)\n\u001b[1;32m    305\u001b[0m ubreaks \u001b[38;5;241m=\u001b[39m \u001b[38;5;28mself\u001b[39m\u001b[38;5;241m.\u001b[39mget_breaks(\u001b[38;5;28mrange\u001b[39m)\n",
      "File \u001b[0;32m~/anaconda3/envs/lab/lib/python3.10/site-packages/plotnine/scales/scale_continuous.py:403\u001b[0m, in \u001b[0;36mscale_continuous.get_bounded_breaks\u001b[0;34m(self, limits)\u001b[0m\n\u001b[1;32m    401\u001b[0m \u001b[38;5;28;01mif\u001b[39;00m limits \u001b[38;5;129;01mis\u001b[39;00m \u001b[38;5;28;01mNone\u001b[39;00m:\n\u001b[1;32m    402\u001b[0m     limits \u001b[38;5;241m=\u001b[39m \u001b[38;5;28mself\u001b[39m\u001b[38;5;241m.\u001b[39mlimits\n\u001b[0;32m--> 403\u001b[0m breaks \u001b[38;5;241m=\u001b[39m \u001b[38;5;28;43mself\u001b[39;49m\u001b[38;5;241;43m.\u001b[39;49m\u001b[43mget_breaks\u001b[49m\u001b[43m(\u001b[49m\u001b[43mlimits\u001b[49m\u001b[43m)\u001b[49m\n\u001b[1;32m    404\u001b[0m strict_breaks \u001b[38;5;241m=\u001b[39m [b \u001b[38;5;28;01mfor\u001b[39;00m b \u001b[38;5;129;01min\u001b[39;00m breaks \u001b[38;5;28;01mif\u001b[39;00m limits[\u001b[38;5;241m0\u001b[39m] \u001b[38;5;241m<\u001b[39m\u001b[38;5;241m=\u001b[39m b \u001b[38;5;241m<\u001b[39m\u001b[38;5;241m=\u001b[39m limits[\u001b[38;5;241m1\u001b[39m]]\n\u001b[1;32m    405\u001b[0m \u001b[38;5;28;01mreturn\u001b[39;00m strict_breaks\n",
      "File \u001b[0;32m~/anaconda3/envs/lab/lib/python3.10/site-packages/plotnine/scales/scale_continuous.py:383\u001b[0m, in \u001b[0;36mscale_continuous.get_breaks\u001b[0;34m(self, limits)\u001b[0m\n\u001b[1;32m    379\u001b[0m     breaks \u001b[38;5;241m=\u001b[39m []\n\u001b[1;32m    380\u001b[0m \u001b[38;5;28;01melif\u001b[39;00m \u001b[38;5;28mself\u001b[39m\u001b[38;5;241m.\u001b[39mbreaks \u001b[38;5;129;01mis\u001b[39;00m \u001b[38;5;28;01mTrue\u001b[39;00m:\n\u001b[1;32m    381\u001b[0m     \u001b[38;5;66;03m# TODO: Fix this type mismatch in mizani with\u001b[39;00m\n\u001b[1;32m    382\u001b[0m     \u001b[38;5;66;03m# a typevar so that type-in = type-out\u001b[39;00m\n\u001b[0;32m--> 383\u001b[0m     _tlimits \u001b[38;5;241m=\u001b[39m \u001b[38;5;28;43mself\u001b[39;49m\u001b[38;5;241;43m.\u001b[39;49m\u001b[43mtrans\u001b[49m\u001b[38;5;241;43m.\u001b[39;49m\u001b[43mbreaks\u001b[49m\u001b[43m(\u001b[49m\u001b[43m_limits\u001b[49m\u001b[43m)\u001b[49m\n\u001b[1;32m    384\u001b[0m     breaks: ScaleContinuousBreaks \u001b[38;5;241m=\u001b[39m _tlimits  \u001b[38;5;66;03m# pyright: ignore\u001b[39;00m\n\u001b[1;32m    385\u001b[0m \u001b[38;5;28;01melif\u001b[39;00m zero_range(_limits):\n",
      "File \u001b[0;32m~/anaconda3/envs/lab/lib/python3.10/site-packages/mizani/transforms.py:224\u001b[0m, in \u001b[0;36mtrans.breaks\u001b[0;34m(self, limits)\u001b[0m\n\u001b[1;32m    218\u001b[0m \u001b[38;5;66;03m# clip the breaks to the domain,\u001b[39;00m\n\u001b[1;32m    219\u001b[0m \u001b[38;5;66;03m# e.g. probabilities will be in [0, 1] domain\u001b[39;00m\n\u001b[1;32m    220\u001b[0m limits \u001b[38;5;241m=\u001b[39m (\n\u001b[1;32m    221\u001b[0m     \u001b[38;5;28mmax\u001b[39m(\u001b[38;5;28mself\u001b[39m\u001b[38;5;241m.\u001b[39mdomain[\u001b[38;5;241m0\u001b[39m], limits[\u001b[38;5;241m0\u001b[39m]),\n\u001b[1;32m    222\u001b[0m     \u001b[38;5;28mmin\u001b[39m(\u001b[38;5;28mself\u001b[39m\u001b[38;5;241m.\u001b[39mdomain[\u001b[38;5;241m1\u001b[39m], limits[\u001b[38;5;241m1\u001b[39m]),\n\u001b[1;32m    223\u001b[0m )\n\u001b[0;32m--> 224\u001b[0m breaks \u001b[38;5;241m=\u001b[39m np\u001b[38;5;241m.\u001b[39masarray(\u001b[38;5;28;43mself\u001b[39;49m\u001b[38;5;241;43m.\u001b[39;49m\u001b[43mbreaks_\u001b[49m\u001b[43m(\u001b[49m\u001b[43mlimits\u001b[49m\u001b[43m)\u001b[49m)\n\u001b[1;32m    226\u001b[0m \u001b[38;5;66;03m# Some methods (e.g. breaks_extended) that\u001b[39;00m\n\u001b[1;32m    227\u001b[0m \u001b[38;5;66;03m# calculate breaks take the limits as guide posts and\u001b[39;00m\n\u001b[1;32m    228\u001b[0m \u001b[38;5;66;03m# not hard limits.\u001b[39;00m\n\u001b[1;32m    229\u001b[0m breaks \u001b[38;5;241m=\u001b[39m breaks\u001b[38;5;241m.\u001b[39mcompress(\n\u001b[1;32m    230\u001b[0m     (breaks \u001b[38;5;241m>\u001b[39m\u001b[38;5;241m=\u001b[39m \u001b[38;5;28mself\u001b[39m\u001b[38;5;241m.\u001b[39mdomain[\u001b[38;5;241m0\u001b[39m]) \u001b[38;5;241m&\u001b[39m (breaks \u001b[38;5;241m<\u001b[39m\u001b[38;5;241m=\u001b[39m \u001b[38;5;28mself\u001b[39m\u001b[38;5;241m.\u001b[39mdomain[\u001b[38;5;241m1\u001b[39m])\n\u001b[1;32m    231\u001b[0m )\n",
      "File \u001b[0;32m~/anaconda3/envs/lab/lib/python3.10/site-packages/mizani/breaks.py:481\u001b[0m, in \u001b[0;36mbreaks_date.__call__\u001b[0;34m(self, limits)\u001b[0m\n\u001b[1;32m    477\u001b[0m     \u001b[38;5;28;01mreturn\u001b[39;00m calculate_date_breaks_byunits(\n\u001b[1;32m    478\u001b[0m         limits, \u001b[38;5;28mself\u001b[39m\u001b[38;5;241m.\u001b[39munits, \u001b[38;5;28mself\u001b[39m\u001b[38;5;241m.\u001b[39mwidth\n\u001b[1;32m    479\u001b[0m     )\n\u001b[1;32m    480\u001b[0m \u001b[38;5;28;01melse\u001b[39;00m:\n\u001b[0;32m--> 481\u001b[0m     \u001b[38;5;28;01mreturn\u001b[39;00m \u001b[43mcalculate_date_breaks_auto\u001b[49m\u001b[43m(\u001b[49m\u001b[43mlimits\u001b[49m\u001b[43m,\u001b[49m\u001b[43m \u001b[49m\u001b[38;5;28;43mself\u001b[39;49m\u001b[38;5;241;43m.\u001b[39;49m\u001b[43mn\u001b[49m\u001b[43m)\u001b[49m\n",
      "File \u001b[0;32m~/anaconda3/envs/lab/lib/python3.10/site-packages/mizani/_core/dates.py:280\u001b[0m, in \u001b[0;36mcalculate_date_breaks_auto\u001b[0;34m(limits, n)\u001b[0m\n\u001b[1;32m    276\u001b[0m \u001b[38;5;28;01mdef\u001b[39;00m \u001b[38;5;21mcalculate_date_breaks_auto\u001b[39m(limits, n: \u001b[38;5;28mint\u001b[39m \u001b[38;5;241m=\u001b[39m \u001b[38;5;241m5\u001b[39m) \u001b[38;5;241m-\u001b[39m\u001b[38;5;241m>\u001b[39m Sequence[datetime]:\n\u001b[1;32m    277\u001b[0m \u001b[38;5;250m    \u001b[39m\u001b[38;5;124;03m\"\"\"\u001b[39;00m\n\u001b[1;32m    278\u001b[0m \u001b[38;5;124;03m    Calcuate date breaks using appropriate units\u001b[39;00m\n\u001b[1;32m    279\u001b[0m \u001b[38;5;124;03m    \"\"\"\u001b[39;00m\n\u001b[0;32m--> 280\u001b[0m     info \u001b[38;5;241m=\u001b[39m \u001b[43mcalculate_date_breaks_info\u001b[49m\u001b[43m(\u001b[49m\u001b[43mlimits\u001b[49m\u001b[43m,\u001b[49m\u001b[43m \u001b[49m\u001b[43mn\u001b[49m\u001b[38;5;241;43m=\u001b[39;49m\u001b[43mn\u001b[49m\u001b[43m)\u001b[49m\n\u001b[1;32m    281\u001b[0m     lookup \u001b[38;5;241m=\u001b[39m {\n\u001b[1;32m    282\u001b[0m         DF\u001b[38;5;241m.\u001b[39mYEARLY: yearly_breaks,\n\u001b[1;32m    283\u001b[0m         DF\u001b[38;5;241m.\u001b[39mMONTHLY: monthly_breaks,\n\u001b[0;32m   (...)\u001b[0m\n\u001b[1;32m    288\u001b[0m         DF\u001b[38;5;241m.\u001b[39mMICROSECONDLY: microsecondly_breaks,\n\u001b[1;32m    289\u001b[0m     }\n\u001b[1;32m    290\u001b[0m     \u001b[38;5;28;01mreturn\u001b[39;00m lookup[info\u001b[38;5;241m.\u001b[39mfrequency](info)\n",
      "File \u001b[0;32m~/anaconda3/envs/lab/lib/python3.10/site-packages/mizani/_core/dates.py:232\u001b[0m, in \u001b[0;36mcalculate_date_breaks_info\u001b[0;34m(limits, n)\u001b[0m\n\u001b[1;32m    225\u001b[0m \u001b[38;5;66;03m# Widen the duration at each granularity\u001b[39;00m\n\u001b[1;32m    226\u001b[0m itv \u001b[38;5;241m=\u001b[39m Interval(\u001b[38;5;241m*\u001b[39mlimits)\n\u001b[1;32m    227\u001b[0m unit_durations \u001b[38;5;241m=\u001b[39m (\n\u001b[1;32m    228\u001b[0m     itv\u001b[38;5;241m.\u001b[39my_wide,\n\u001b[1;32m    229\u001b[0m     itv\u001b[38;5;241m.\u001b[39mM_wide,\n\u001b[1;32m    230\u001b[0m     itv\u001b[38;5;241m.\u001b[39md_wide,\n\u001b[1;32m    231\u001b[0m     itv\u001b[38;5;241m.\u001b[39mh_wide,\n\u001b[0;32m--> 232\u001b[0m     \u001b[43mitv\u001b[49m\u001b[38;5;241;43m.\u001b[39;49m\u001b[43mm_wide\u001b[49m,\n\u001b[1;32m    233\u001b[0m     itv\u001b[38;5;241m.\u001b[39ms,\n\u001b[1;32m    234\u001b[0m     itv\u001b[38;5;241m.\u001b[39mu,\n\u001b[1;32m    235\u001b[0m )\n\u001b[1;32m    236\u001b[0m \u001b[38;5;66;03m# Search frequencies from longest (yearly) to the smallest\u001b[39;00m\n\u001b[1;32m    237\u001b[0m \u001b[38;5;66;03m# for one that would a good width between the breaks\u001b[39;00m\n\u001b[1;32m    238\u001b[0m \n\u001b[1;32m    239\u001b[0m \u001b[38;5;66;03m# Defaults\u001b[39;00m\n\u001b[1;32m    240\u001b[0m freq \u001b[38;5;241m=\u001b[39m DF\u001b[38;5;241m.\u001b[39mYEARLY  \u001b[38;5;66;03m# makes pyright happy\u001b[39;00m\n",
      "File \u001b[0;32m~/anaconda3/envs/lab/lib/python3.10/site-packages/mizani/_core/date_utils.py:131\u001b[0m, in \u001b[0;36mInterval.m_wide\u001b[0;34m(self)\u001b[0m\n\u001b[1;32m    126\u001b[0m \u001b[38;5;129m@property\u001b[39m\n\u001b[1;32m    127\u001b[0m \u001b[38;5;28;01mdef\u001b[39;00m \u001b[38;5;21mm_wide\u001b[39m(\u001b[38;5;28mself\u001b[39m) \u001b[38;5;241m-\u001b[39m\u001b[38;5;241m>\u001b[39m \u001b[38;5;28mint\u001b[39m:\n\u001b[1;32m    128\u001b[0m \u001b[38;5;250m    \u001b[39m\u001b[38;5;124;03m\"\"\"\u001b[39;00m\n\u001b[1;32m    129\u001b[0m \u001b[38;5;124;03m    Minutes (enclosing the original)\u001b[39;00m\n\u001b[1;32m    130\u001b[0m \u001b[38;5;124;03m    \"\"\"\u001b[39;00m\n\u001b[0;32m--> 131\u001b[0m     \u001b[38;5;28;01mreturn\u001b[39;00m \u001b[43mInterval\u001b[49m\u001b[43m(\u001b[49m\u001b[38;5;241;43m*\u001b[39;49m\u001b[38;5;28;43mself\u001b[39;49m\u001b[38;5;241;43m.\u001b[39;49m\u001b[43mlimits_minute\u001b[49m\u001b[43m(\u001b[49m\u001b[43m)\u001b[49m\u001b[43m)\u001b[49m\u001b[38;5;241m.\u001b[39mm\n",
      "File \u001b[0;32m<string>:5\u001b[0m, in \u001b[0;36m__init__\u001b[0;34m(self, start, end)\u001b[0m\n",
      "File \u001b[0;32m~/anaconda3/envs/lab/lib/python3.10/site-packages/mizani/_core/date_utils.py:46\u001b[0m, in \u001b[0;36mInterval.__post_init__\u001b[0;34m(self)\u001b[0m\n\u001b[1;32m     43\u001b[0m \u001b[38;5;28;01mif\u001b[39;00m \u001b[38;5;28misinstance\u001b[39m(\u001b[38;5;28mself\u001b[39m\u001b[38;5;241m.\u001b[39mend, date):\n\u001b[1;32m     44\u001b[0m     \u001b[38;5;28mself\u001b[39m\u001b[38;5;241m.\u001b[39mend \u001b[38;5;241m=\u001b[39m datetime\u001b[38;5;241m.\u001b[39mfromisoformat(\u001b[38;5;28mself\u001b[39m\u001b[38;5;241m.\u001b[39mend\u001b[38;5;241m.\u001b[39misoformat())\n\u001b[0;32m---> 46\u001b[0m \u001b[38;5;28mself\u001b[39m\u001b[38;5;241m.\u001b[39m_delta \u001b[38;5;241m=\u001b[39m \u001b[43mrelativedelta\u001b[49m\u001b[43m(\u001b[49m\u001b[38;5;28;43mself\u001b[39;49m\u001b[38;5;241;43m.\u001b[39;49m\u001b[43mend\u001b[49m\u001b[43m,\u001b[49m\u001b[43m \u001b[49m\u001b[38;5;28;43mself\u001b[39;49m\u001b[38;5;241;43m.\u001b[39;49m\u001b[43mstart\u001b[49m\u001b[43m)\u001b[49m\n\u001b[1;32m     47\u001b[0m \u001b[38;5;28mself\u001b[39m\u001b[38;5;241m.\u001b[39m_tdelta \u001b[38;5;241m=\u001b[39m \u001b[38;5;28mself\u001b[39m\u001b[38;5;241m.\u001b[39mend \u001b[38;5;241m-\u001b[39m \u001b[38;5;28mself\u001b[39m\u001b[38;5;241m.\u001b[39mstart\n",
      "File \u001b[0;32m~/anaconda3/envs/lab/lib/python3.10/site-packages/dateutil/relativedelta.py:154\u001b[0m, in \u001b[0;36mrelativedelta.__init__\u001b[0;34m(self, dt1, dt2, years, months, days, leapdays, weeks, hours, minutes, seconds, microseconds, year, month, day, weekday, yearday, nlyearday, hour, minute, second, microsecond)\u001b[0m\n\u001b[1;32m    151\u001b[0m dtm \u001b[38;5;241m=\u001b[39m \u001b[38;5;28mself\u001b[39m\u001b[38;5;241m.\u001b[39m\u001b[38;5;21m__radd__\u001b[39m(dt2)\n\u001b[1;32m    153\u001b[0m \u001b[38;5;66;03m# If we've overshot our target, make an adjustment\u001b[39;00m\n\u001b[0;32m--> 154\u001b[0m \u001b[38;5;28;01mif\u001b[39;00m \u001b[43mdt1\u001b[49m\u001b[43m \u001b[49m\u001b[38;5;241;43m<\u001b[39;49m\u001b[43m \u001b[49m\u001b[43mdt2\u001b[49m:\n\u001b[1;32m    155\u001b[0m     compare \u001b[38;5;241m=\u001b[39m operator\u001b[38;5;241m.\u001b[39mgt\n\u001b[1;32m    156\u001b[0m     increment \u001b[38;5;241m=\u001b[39m \u001b[38;5;241m1\u001b[39m\n",
      "\u001b[0;31mTypeError\u001b[0m: can't compare offset-naive and offset-aware datetimes"
     ]
    }
   ],
   "source": []
  },
  {
   "cell_type": "code",
   "execution_count": null,
   "id": "08700f27-d61b-46f4-9654-52fe2dacab93",
   "metadata": {},
   "outputs": [],
   "source": [
    "## Show save, download, export"
   ]
  },
  {
   "cell_type": "code",
   "execution_count": null,
   "id": "e4a21541-9e16-4e55-bc9a-b4f85584931f",
   "metadata": {},
   "outputs": [],
   "source": []
  }
 ],
 "metadata": {
  "kernelspec": {
   "display_name": "Python 3 (ipykernel)",
   "language": "python",
   "name": "python3"
  },
  "language_info": {
   "codemirror_mode": {
    "name": "ipython",
    "version": 3
   },
   "file_extension": ".py",
   "mimetype": "text/x-python",
   "name": "python",
   "nbconvert_exporter": "python",
   "pygments_lexer": "ipython3",
   "version": "3.10.14"
  }
 },
 "nbformat": 4,
 "nbformat_minor": 5
}
